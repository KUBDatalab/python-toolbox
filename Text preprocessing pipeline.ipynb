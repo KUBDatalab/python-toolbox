{
 "cells": [
  {
   "cell_type": "markdown",
   "id": "9cd8769c-3dbf-45ba-904d-e95db0f370e6",
   "metadata": {},
   "source": [
    "# A data preprocessing pipeline"
   ]
  },
  {
   "cell_type": "code",
   "execution_count": 1,
   "id": "200cb4f6-9dcd-4f2b-ad21-f69ef2a1d077",
   "metadata": {},
   "outputs": [],
   "source": [
    "import urllib.request\n",
    "\n",
    "\n",
    "# Get the 1818 edition of Frankenstein\n",
    "url = 'https://gutenberg.org/cache/epub/41445/pg41445.txt'\n",
    "raw_text = urllib.request.urlopen(url).read().decode()\n",
    "# Get text\n",
    "text_start = raw_text.find('PREFACE.')\n",
    "text_end = raw_text.find('*** END OF THE PROJECT GUTENBERG EBOOK FRANKENSTEIN; OR, THE MODERN PROMETHEUS ***')\n",
    "text = raw_text[text_start:text_end].strip() # Slice"
   ]
  },
  {
   "cell_type": "markdown",
   "id": "fc6132f7-a726-4645-a71e-922ab00561aa",
   "metadata": {},
   "source": [
    "## Cleaning text data"
   ]
  },
  {
   "cell_type": "code",
   "execution_count": 11,
   "id": "3cb22a0d-eef4-4df1-8779-022c1c7062fe",
   "metadata": {},
   "outputs": [
    {
     "data": {
      "text/plain": [
       "'PREFACE.\\r\\n\\r\\n\\r\\nThe event on which this fiction is founded has been supposed, by Dr.\\r\\nDarwin, and some of the physiological writers of Germany, as not of\\r\\nimpossible occurrence. I shall not be supposed as according the remotest\\r\\ndegree of serious faith to such an imagination; yet, in assuming it as\\r\\nthe basis of a work of fancy, I have not considered myself as merely\\r\\nweaving a series of supernatural terrors. The event on which the\\r\\ninterest of the story depends is exempt from the disadvantages of a mere\\r\\ntale of spectres or enchantment. It was recommended by the novelty of\\r\\nthe situations which it developes; and, however impossible as a physical\\r\\nfact, affords a point of view to the imagination for the delineating of\\r\\nhuman passions more comprehensive and commanding than any which the\\r\\nordinary relations of existing events can yield.\\r\\n\\r\\nI have thus endeavoured to preserve the truth of the elementary\\r\\nprinciples of human nature, while I have not scrupled to innovate\\r\\nupon their combinations. The _Iliad_, the tragic poetry of\\r\\nGreece,—Shakespeare, in the _Tempest_ and _Midsummer Night’s\\r\\nDream_,—and most especially Milton, in _Paradise Lost_, conform to this\\r\\nrule; and the most humble novelist, who seeks to confer or receive\\r\\namusement from his labours, may, without presumption, apply to prose\\r\\nfiction a licence, or rather a rule, from the adoption of which so many\\r\\nexquisite combinations of human feeling have resulted in the highest\\r\\nspecimens of poetry.\\r\\n\\r\\nThe circumstance on which my story rests was suggested in casual\\r\\nconversation. It was commenced, partly as a source of amusement, and\\r\\npartly as an expedient for exercising any untried resources of mind.\\r\\nOther motives were mingled with these, as the work proceeded. I am by no\\r\\nmeans indifferent to the manner in which whatever moral tendencies exist\\r\\nin the sentiments or characters it contains shall affect the reader; yet\\r\\nmy chief concern in this respect has been limited to the avoiding of the\\r\\nenervating effects of the novels of the present day, and to the\\r\\nexhibitions of the amiableness of domestic affection, and the excellence\\r\\nof universal virtue. The opinions which naturally spring from the\\r\\ncharacter and situation of the hero are by no means to be conceived as\\r\\nexisting always in my own conviction; nor is any inference justly to be\\r\\ndrawn from the following pages as prejudicing any philosophical doctrine\\r\\nof whatever kind.\\r\\n\\r\\nIt is a subject also of additional interest to the author, that this\\r\\nstory was begun in the majestic region where the scene is principally\\r\\nlaid, and in society which cannot cease to be regretted. I passed the\\r\\nsummer of 1816 in the environs of Geneva. The season was cold and rainy,\\r\\nand in the evenings we crowded around a blazing wood fire, and\\r\\noccasionally amused ourselves with some German stories of ghosts, which\\r\\nhappened to fall into our hands. These tales excited in us a playful\\r\\ndesire of imitation. Two other friends (a tale from the pen of one of\\r\\nwhom wou'"
      ]
     },
     "execution_count": 11,
     "metadata": {},
     "output_type": "execute_result"
    }
   ],
   "source": [
    "# Identify noise\n",
    "text[:3000]"
   ]
  },
  {
   "cell_type": "code",
   "execution_count": 12,
   "id": "eb454fa0-58a6-4f80-a1b6-559f9879599e",
   "metadata": {},
   "outputs": [
    {
     "data": {
      "text/plain": [
       "'preface the event which this fiction founded has been supposed darwin and some the physiological writers germany not impossible occurrence shall not supposed according the remotest degree serious faith such imagination yet assuming the basis work fancy have not considered myself merely weaving series supernatural terrors the event which the interest the story depends exempt from the disadvantages mere tale spectres enchantment was recommended the novelty the situations which developes and however impossible physical fact affords point view the imagination for the delineating human passions more comprehensive and commanding than any which the ordinary relations existing events can yield have thus endeavoured preserve the truth the elementary principles human nature while have not scrupled innovate upon their combinations the iliad the tragic poetry greece shakespeare the tempest and midsummer night dream and most especially milton paradise lost conform this rule and the most humble novelist who seeks confer receive amusement from his labours may without presumption apply prose fiction licence rather rule from the adoption which many exquisite combinations human feeling have resulted the highest specimens poetry the circumstance which story rests was suggested casual conversation was commenced partly source amusement and partly expedient for exercising any untried resources mind other motives were mingled with these the work proceeded means indifferent the manner which whatever moral tendencies exist the sentiments characters contains shall affect the reader yet chief concern this respect has been limited the avoiding the enervating effects the novels the present day and the exhibitions the amiableness domestic affection and the excellence universal virtue the opinions which naturally spring from the character and situation the hero are means conceived existing always own conviction nor any inference justly drawn from the following pages prejudicing any philosophical doctrine whatever kind subject also additional interest the author that this story was begun the majestic region where the scene principally laid and society which cannot cease regretted passed the summer the environs geneva the season was cold and rainy and the evenings crowded around blazing wood fire and occasionally amused ourselves with some german stories ghosts which happened fall into our hands these tales excited playful desire imitation two other friends tale from the pen one whom would far more acceptable the public than any thing can ever hope produce and myself agreed write each story founded some supernatural occurrence the weather however suddenly became serene and two friends left journey among the alps and lost the magnificent scenes which they present all memory their ghostly visions the following tale the only one which has been completed frankenstein the modern prometheus letter mrs saville england petersburgh dec you will rejoice hear that disaster has accompanied '"
      ]
     },
     "execution_count": 12,
     "metadata": {},
     "output_type": "execute_result"
    }
   ],
   "source": [
    "import re\n",
    "def clean(text): \n",
    "    \n",
    "    # match a variety of punctuation and special characters\n",
    "    # backslash \\ and the pipe symbols | plays important roles, for example here \\? \n",
    "    # Now it is a good idea to look up a see what \\ and | does \n",
    "    text = re.sub(r'\\.|,|:|;|!|\\?|\\(|\\)|\\||\\+|\\'|\\\"|‘|’|“|”|\\'|\\’|…|\\-|_|–|—|\\$|&|\\*|>|<|\\/|\\[|\\]', ' ', text)\n",
    "\n",
    "    # Regex pattern to match numbers and words containing numbers\n",
    "    text = re.sub(r'\\b\\w*\\d\\w*\\b', '', text)\n",
    "    \n",
    "    # Remove words with length 2 or less\n",
    "    text = re.sub(r'\\b\\w{1,2}\\b', '', text)\n",
    "    \n",
    "    # sequences of white spaces \n",
    "    text = re.sub(r'\\s+', ' ', text) \n",
    "\n",
    "    # lower the letters\n",
    "    text = text.lower()\n",
    "\n",
    "    # return the text\n",
    "    return text\n",
    "    \n",
    "\n",
    "clean(text)[:3000]"
   ]
  },
  {
   "cell_type": "code",
   "execution_count": null,
   "id": "c0ca00a0-c3a3-4520-bd6e-24ce464450aa",
   "metadata": {},
   "outputs": [],
   "source": []
  }
 ],
 "metadata": {
  "kernelspec": {
   "display_name": "Python 3 (ipykernel)",
   "language": "python",
   "name": "python3"
  },
  "language_info": {
   "codemirror_mode": {
    "name": "ipython",
    "version": 3
   },
   "file_extension": ".py",
   "mimetype": "text/x-python",
   "name": "python",
   "nbconvert_exporter": "python",
   "pygments_lexer": "ipython3",
   "version": "3.12.7"
  }
 },
 "nbformat": 4,
 "nbformat_minor": 5
}
