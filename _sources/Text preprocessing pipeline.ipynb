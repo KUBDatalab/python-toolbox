{
 "cells": [
  {
   "cell_type": "markdown",
   "id": "9cd8769c-3dbf-45ba-904d-e95db0f370e6",
   "metadata": {},
   "source": [
    "# A text preprocessing pipeline\n",
    "\n",
    "The purpose is to provide a way to create uniform text data that is ready for analysis.\n",
    "\n",
    "To get the purpose in goal we need text data and we can use the novel Frankenstein, which is available on Gutenberg.org.   "
   ]
  },
  {
   "cell_type": "code",
   "execution_count": null,
   "id": "200cb4f6-9dcd-4f2b-ad21-f69ef2a1d077",
   "metadata": {},
   "outputs": [],
   "source": [
    "# import libaries\n",
    "import urllib.request\n",
    "\n",
    "# Get the 1818 edition of Frankenstein\n",
    "url = 'https://gutenberg.org/cache/epub/41445/pg41445.txt'\n",
    "raw_text = urllib.request.urlopen(url).read().decode()\n",
    "# Get text\n",
    "text_start = raw_text.find('PREFACE.')\n",
    "text_end = raw_text.find('*** END OF THE PROJECT GUTENBERG EBOOK FRANKENSTEIN; OR, THE MODERN PROMETHEUS ***')\n",
    "text = raw_text[text_start:text_end].strip() # Slice"
   ]
  },
  {
   "cell_type": "code",
   "execution_count": null,
   "id": "3cb22a0d-eef4-4df1-8779-022c1c7062fe",
   "metadata": {},
   "outputs": [],
   "source": [
    "# Identify noise in the text\n",
    "text[:3000]"
   ]
  },
  {
   "cell_type": "markdown",
   "id": "fc6132f7-a726-4645-a71e-922ab00561aa",
   "metadata": {},
   "source": [
    "## Cleaning text data"
   ]
  },
  {
   "cell_type": "code",
   "execution_count": null,
   "id": "eb454fa0-58a6-4f80-a1b6-559f9879599e",
   "metadata": {},
   "outputs": [],
   "source": [
    "import re\n",
    "def clean(text): \n",
    "    \n",
    "    # match a variety of punctuation and special characters\n",
    "    # backslash \\ and the pipe symbols | plays important roles, for example here \\? \n",
    "    # Now it is a good idea to look up a see what \\ and | does \n",
    "    text = re.sub(r'\\.|,|:|;|!|\\?|\\(|\\)|\\||\\+|\\'|\\\"|‘|’|“|”|\\'|\\’|…|\\-|_|–|—|\\$|&|\\*|>|<|\\/|\\[|\\]', ' ', text)\n",
    "\n",
    "    # Regex pattern to match numbers and words containing numbers\n",
    "    text = re.sub(r'\\b\\w*\\d\\w*\\b', '', text)\n",
    "    \n",
    "    # Remove words with length 2 or less\n",
    "    text = re.sub(r'\\b\\w{1,2}\\b', '', text)\n",
    "    \n",
    "    # sequences of white spaces \n",
    "    text = re.sub(r'\\s+', ' ', text) \n",
    "\n",
    "    # lower the letters\n",
    "    text = text.lower()\n",
    "\n",
    "    # return the text\n",
    "    return text\n",
    "    \n",
    "\n",
    "clean(text)[:3000]"
   ]
  },
  {
   "cell_type": "code",
   "execution_count": null,
   "id": "c0ca00a0-c3a3-4520-bd6e-24ce464450aa",
   "metadata": {},
   "outputs": [],
   "source": []
  }
 ],
 "metadata": {
  "kernelspec": {
   "display_name": "Python 3 (ipykernel)",
   "language": "python",
   "name": "python3"
  },
  "language_info": {
   "codemirror_mode": {
    "name": "ipython",
    "version": 3
   },
   "file_extension": ".py",
   "mimetype": "text/x-python",
   "name": "python",
   "nbconvert_exporter": "python",
   "pygments_lexer": "ipython3",
   "version": "3.12.7"
  }
 },
 "nbformat": 4,
 "nbformat_minor": 5
}
