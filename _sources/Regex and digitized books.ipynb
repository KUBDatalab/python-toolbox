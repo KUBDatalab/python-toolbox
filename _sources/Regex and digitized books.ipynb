{
 "cells": [
  {
   "cell_type": "markdown",
   "id": "a43625f1-a516-4672-8a3e-28a86a4575a9",
   "metadata": {},
   "source": [
    "# Regex and digitized books\n",
    "\n",
    "## Get text data\n",
    "\n",
    "Let us download one of the digitized books from The Royal Danish Library. The digitized books are ocr scanned (Optical Character Recognition) and available as pdf-files.\n",
    "\n",
    "The book is [Macdonald, James. Travels through Denmark and Part of Sweden during the Winter and Spring of the Year 1809 : Containing Authentic Particulars of the Domestic Condition of Those Countries, the Opinions of the Inhabitants, and the State of Agriculture. 2015.](https://soeg.kb.dk/permalink/45KBDK_KGL/1pioq0f/alma99122806627205763)\n",
    "\n",
    "We download the book, extract the text content and store it in a variable called full_text.\n"
   ]
  },
  {
   "cell_type": "code",
   "execution_count": 2,
   "id": "d1cf97d6-1af5-4915-933e-00e48d9440d1",
   "metadata": {},
   "outputs": [
    {
     "name": "stdout",
     "output_type": "stream",
     "text": [
      "\n",
      "TRAVELS\n",
      "\\\n",
      "THROUGH\n",
      "D E N M A B K ,\n",
      "%\n",
      "AND PART OF\n",
      "S W E D E N ,\n",
      "%\n",
      "DURING THE WINTER AND SPRING OF THE YEAR\n",
      "1809 :\n",
      "i\n",
      "CONTAINING'\n",
      "f »\n",
      "#\n",
      "é •\n",
      "AUTHENTIC PARTICULARS OF THE DOMESTIC CONDITION  \n",
      "OF THOSE COUNTRIES, THE OPINIONS OF THE INHA-\n",
      "BITANTS, AND THE STATE OF AGRICULTURE.\n",
      "'  /\n",
      "B Y  JAM ES MACDONALD.\n",
      "f\\\n",
      "\\\n",
      "\\\n",
      "LONDON:\n",
      "^  4\n",
      "PRINTED FOR RICHARD PH ILLIPS,\n",
      "BRIDGE STREET, BLACKFRIARS,  \n",
      "liy B. MC MIEI.AN, BOW STREET, COVENT GARDEN.'\n",
      "\n",
      "5 .\n",
      "I.’ V - ■\n",
      "II\n",
      "l\n",
      "V.‘  l';\n",
      "\\ *  ;• •(\n",
      "I\n",
      "* :  '* J  \\;■>- •  4\n",
      "1  ^\n",
      "i\n",
      "1\n",
      "\\\n",
      "i\n",
      "t\n",
      ">\n",
      "\\if; ■ '■V\n",
      "5 , ■  ‘ , r\n",
      "r *  . ■ ; '  p O V : t h .' V ' : H\n",
      "*x't;'r. V  i . }C ,\"'.. ■  V r f V\n",
      "’ f'At ’ -V * ■ ' .  f\\*\n",
      "■ r.-'i , r ' - 1.;' ;*-L  '^ V . - 't  .  ■  ' ■  '*  - c v J * '  •  j\n",
      "' Z \" ^ x - ,  u'.-'--V \"\n",
      ";' - i.• ■  i\\\n",
      "\n",
      "ADVERTISEMENT.\n",
      "IN  a letter to the Publisher, the Author of the follow«  \n",
      "ing pages informs -him, that his desultory Jovirnal was  \n",
      "written during a tour in the Spring of 1809, through some  \n",
      "Danish and Swedish Provinces; and he cannot but think,  \n",
      "that \n"
     ]
    }
   ],
   "source": [
    "#! pip install PyPDF2\n",
    "import requests\n",
    "from io import BytesIO\n",
    "from PyPDF2 import PdfReader\n",
    "\n",
    "# URL to the ocr scanned, pdf verison of the text\n",
    "url = \"https://www.kb.dk/e-mat/dod/130014244515_bw.pdf\"\n",
    "\n",
    "# Download the pdf file\n",
    "response = requests.get(url)\n",
    "response.raise_for_status()  # Check if the request was successful\n",
    "\n",
    "# Open the pdf file in memory\n",
    "pdf_file = BytesIO(response.content)\n",
    "\n",
    "# Create a PDF reader object\n",
    "reader = PdfReader(pdf_file)\n",
    "\n",
    "# Extract text from each page starting from page 5\n",
    "text_content = []\n",
    "for page in reader.pages[4:]:\n",
    "    text_content.append(page.extract_text())\n",
    "\n",
    "# Join all the text content into a single string\n",
    "full_text = \"\\n\".join(text_content)\n",
    "\n",
    "# Print the extracted text\n",
    "print(full_text[0:1000])"
   ]
  },
  {
   "cell_type": "code",
   "execution_count": 17,
   "id": "bcfc0c17-f7a2-438e-abc5-352801694bc0",
   "metadata": {},
   "outputs": [
    {
     "data": {
      "text/plain": [
       "'Digitaliseret af | Digitised by\\nForfatter(e) | Author(s): Macdonald, James.\\nTitel | Title: Travels through Denmark and part of Sweden\\nduring the winter and spring of the year\\n1809 : Containing authentic particulars of the\\ndomestic condition of those countries, the\\nopinions of the inhabitants, and the state of\\nagriculture.\\nUdgivet år og sted | Publication time and place: London : Richard Phillips, 1810\\nFysiske størrelse | Physical extent: 88 s.\\nDK\\nMaterialet er fri af ophavsret. Du kan kopiere, ændre, distribuere eller\\nfremføre værket, også til kommercielle formål, uden at bede om tilladelse.\\nHusk altid at kreditere ophavsmanden.\\nUK\\nThe work is free of copyright. You can copy, change, distribute or present the\\nwork, even for commercial purposes, without asking for permission. Always\\nremember to credit the author.'"
      ]
     },
     "execution_count": 17,
     "metadata": {},
     "output_type": "execute_result"
    }
   ],
   "source": [
    "reader.pages[0].extract_text()"
   ]
  },
  {
   "cell_type": "markdown",
   "id": "1bca5859-854a-4ef0-a539-256589a47028",
   "metadata": {},
   "source": [
    "## RegEx to clean / preprocess text \n",
    "\n",
    "When we work with Regex, the website [regex101.com](https://regex101.com/) is a brilliant tool. We can help partly to understand Regex, partly to write a Regex pattern. It is a good idea to take ten minutes to familiarize yourself with the page.\n",
    "\n",
    "Try inserting this text string in the 'TEXT STRING' field: \n",
    "\n",
    "_He observes, that he has not only committed to paper his  \n",
    "own opinions, but also, those of persons with wliom he con-  \n",
    "versed in the above-mcnt ioned eountries_ i\n",
    "\n",
    "In the 'REGULAR EXPRESSION' field you can write this pattern `'W+\\'`.\n",
    "\n",
    "What happens when you start typing?\n",
    "\n",
    "\n",
    "In the field EXPLANATION, at the top of the right side, you can read an explanation of the regex pattern.\n",
    "\n",
    "### Write a function to clean text\n",
    "\n",
    "The [Python function](https://www.w3schools.com/python/python_functions.asp) 'clean' below we use to clean the text of all characters other than letters.\n"
   ]
  },
  {
   "cell_type": "code",
   "execution_count": 44,
   "id": "0e2bf2d2-7d7b-4990-a9d0-47fdfacdae6f",
   "metadata": {},
   "outputs": [],
   "source": [
    "import re\n",
    "def clean(text): \n",
    "    \n",
    "    # match a variety of punctuation and special characters\n",
    "    # backslash \\ and the pipe symbols | plays important roles, for example here \\? \n",
    "    # Now it is a good idea to look up a see what \\ and | does \n",
    "    text = re.sub(r'\\.|,|:|;|!|\\?|\\(|\\)|\\||\\+|\\'|\\\"|‘|’|“|”|\\'|\\’|…|\\-|_|–|—|\\$|&|\\*|>|<|\\/|\\[|\\]', ' ', text)\n",
    "\n",
    "    # Regex pattern to match numbers and words containing numbers\n",
    "    text = re.sub(r'\\b\\w*\\d\\w*\\b', '', text)\n",
    "     \n",
    "\n",
    "    # lower the letters\n",
    "    text = text.lower()\n",
    "\n",
    "    # replace sequences of non-word characters ('\\W+') with a single space. \n",
    "    # The 'strip()' removes any leading or tailing whitespaces that could come from the substitution.\n",
    "    text = re.sub(r'\\W+', ' ', text).strip()\n",
    "    \n",
    "    return text\n",
    "    \n",
    "\n",
    "text = clean(full_text)"
   ]
  },
  {
   "cell_type": "code",
   "execution_count": 45,
   "id": "5ccf67c5-9447-4187-af3f-66e5244cc495",
   "metadata": {},
   "outputs": [
    {
     "data": {
      "text/plain": [
       "'travels through d e n m a b k and part of s w e d e n during the winter and spring of the year i containing f é authentic particulars of the domestic condition of those countries the opinions of the inha bitants and the state of agriculture b y jam es macdonald f london printed for richard ph illips bridge street blackfriars liy b mc miei an bow street covent garden i v ii l v l i j i i t if v r r p o v t h v h x t r v i c v r f v f at v f r i r l v t c v j j z x u v i i advertisement in a letter to the publisher the author of the follow ing pages informs him that his desultory jovirnal was written during a tour in the spring of through some danish and swedish provinces and he cannot but think that its perusal may draw the attention of onr countrymen from the temporary subjects of the moment to such matters as are connected with the permanent interests of the britisk empire he observes that he has not only committed to paper his own opinions but also those of persons with wliom he con versed in the above mcnt ioned eountries u and have done tilis he adds with frankness and impartiality and with the feelings of a man w ho in the hour of misfor tune experienced equally from the enemies and the allies of his country the humanity of christians and the kindncss of friends and who after five different journies through va rious parts of the continent of europe has hcre written without the assistance of a single paper or a single book the observations made on the spot upon wliat he saw and felt during a period peculiarly eventful to the kingdoms to which his journal refers u if my opinions concerning zeeland should appear extra vagant to any one not accustomed to reflect upon the present situation of the northern powcrs i have only to assure him i am by no means singtilar in my opinions but on thecontrary coincide in every point with the most intelli gent british and foreign gentlemen with whoip i havelately had the pleasure of conversing u i have to add as another motivefor publishing whatbh i t i i i i l id s l id i r i i n b i to raany readers may appear uninteresting that tlie treat ment experienced from the danes by myself and my fellow sufferers as well as by the survivors of the crew of his ma jesty s late ship the crescent imposes it upon me as a duty to give all possible publicity to circumstances so honourable to that nation and which may eventually soften the spiritof mutual hostility which at present subsists between the two countries and procure for the danish prisoners in britain as kind a treatment as the circumstances of the times permit i should ill deserve the liberty which their generosity so readily granted me did i not seize the earliest opportu nity of thanking the danish monarch and nation for their kindness towards me and that too in the way wortliy of both namely in the plain language of sincerity and truth the editor bas takep the liberty of altering the monotony of the author s journal by dividing his communications into the mo'"
      ]
     },
     "execution_count": 45,
     "metadata": {},
     "output_type": "execute_result"
    }
   ],
   "source": [
    "text[:3000]"
   ]
  },
  {
   "cell_type": "markdown",
   "id": "36c48d04-8c85-48a5-ace1-60f13935ecff",
   "metadata": {},
   "source": [
    "## w+ together with \\b\n",
    "\n",
    "Why does anything happen on sunday, monday or yesterday?\n",
    "\n",
    "Find words with special endings, e.g. _day_, can be a help to gain insight into where and when the literature takes place.\n",
    "\n",
    "The regex pattern `\\w+day` is used to find sequences of word characters that end with the letter 'day'.\n",
    "\n",
    "`\\b` finds the bounderies of where letters starts or ends.\n",
    "\n",
    "You can also use the endings to find grammatical forms, e.g. words with a special suffix like '-ly' would be relatively easy to identify. Try it.\n",
    "\n",
    "\n",
    "\n"
   ]
  },
  {
   "cell_type": "code",
   "execution_count": 49,
   "id": "a55418f3-76b1-45b0-bce9-05cac9069415",
   "metadata": {},
   "outputs": [
    {
     "name": "stdout",
     "output_type": "stream",
     "text": [
      "['sunday', 'monday', 'yesterday', 'yesterday', 'terday', 'yesterday', 'yesterday', 'yesterday', 'yesterday']\n"
     ]
    }
   ],
   "source": [
    "ending = re.findall(r'\\w+day\\b', text)\n",
    "print(ending)"
   ]
  },
  {
   "cell_type": "markdown",
   "id": "1660427a-a14f-455d-87ee-a8ab539ba5bf",
   "metadata": {},
   "source": [
    "## More metacharacters, as well as pipes, lists and question marks\n",
    "\n",
    "In literature, comparisons are often used to illustrate points more clearly by putting pictures on what you want to describe. Comparisons also contribute to making the text more lively and interesting.\n",
    "\n",
    "But regex makes it a manageable task to retrieve examples of comparisons, because we can find text strings that follow the pattern in a typical comparison.\n",
    "\n",
    "We can illustrate it in the following way. We look for phrases whose pattern is either as a ... or as an ....\n",
    "\n",
    "There are two different ways.\n",
    "\n",
    "First way is to use pipe `|`. Pipe means \"or\". The regex pattern will then look like this: `'as\\sa\\s\\w+|as\\san\\s\\w+'`\n",
    "\n",
    "Another way is to use the list character `[]`? It looks like this: `'as\\sa[n]?\\s\\w+'`.\n",
    "\n",
    "In the list, letters can be added that can stand in that place in the word. The question mark indicates that the letter may or may not be there."
   ]
  },
  {
   "cell_type": "code",
   "execution_count": 50,
   "id": "928bec88-0a53-4f65-bde3-8460cd23d2b6",
   "metadata": {},
   "outputs": [
    {
     "name": "stdout",
     "output_type": "stream",
     "text": [
      "['as a duty', 'as a decoy', 'as a short', 'as a sensible', 'as a considerable', 'as a spy', 'as a guard', 'as a stranger', 'as a german', 'as a troop', 'as a prison', 'as a guard', 'as a boat', 'as a midshipman', 'as a one', 'as a matter', 'as a real', 'as a coward', 'as a proof', 'as a real', 'as a prisoaeria', 'as a very', 'as a bitter', 'as a long', 'as a v', 'as a knowledge', 'as a matter', 'as a biessing', 'as a dead', 'as a military', 'as a peculiar', 'as a good', 'as a bad']\n"
     ]
    }
   ],
   "source": [
    "comparison = re.findall(r'as\\sa\\s\\w+', text)\n",
    "print (comparison)"
   ]
  },
  {
   "cell_type": "code",
   "execution_count": 51,
   "id": "10fde00b-64cf-4d3d-b644-de3c9d2b317c",
   "metadata": {},
   "outputs": [
    {
     "name": "stdout",
     "output_type": "stream",
     "text": [
      "['as a duty', 'as a decoy', 'as an arduous', 'as a short', 'as a sensible', 'as a considerable', 'as a spy', 'as a guard', 'as a stranger', 'as a german', 'as a troop', 'as a prison', 'as a guard', 'as a boat', 'as a midshipman', 'as a one', 'as a matter', 'as an odious', 'as a real', 'as a coward', 'as a proof', 'as an arrow', 'as a real', 'as a prisoaeria', 'as a very', 'as a bitter', 'as a long', 'as a v', 'as a knowledge', 'as an abundance', 'as a matter', 'as an university', 'as a biessing', 'as a dead', 'as a military', 'as an inde', 'as a peculiar', 'as a good', 'as a bad']\n"
     ]
    }
   ],
   "source": [
    "comparison = re.findall(r'as\\sa\\s\\w+|as\\san\\s\\w+', text)\n",
    "print (comparison)"
   ]
  },
  {
   "cell_type": "code",
   "execution_count": 52,
   "id": "49af9a60-da36-4819-8fff-cc99955ca5e5",
   "metadata": {},
   "outputs": [
    {
     "name": "stdout",
     "output_type": "stream",
     "text": [
      "['as a duty', 'as a decoy', 'as an arduous', 'as a short', 'as a sensible', 'as a considerable', 'as a spy', 'as a guard', 'as a stranger', 'as a german', 'as a troop', 'as a prison', 'as a guard', 'as a boat', 'as a midshipman', 'as a one', 'as a matter', 'as an odious', 'as a real', 'as a coward', 'as a proof', 'as an arrow', 'as a real', 'as a prisoaeria', 'as a very', 'as a bitter', 'as a long', 'as a v', 'as a knowledge', 'as an abundance', 'as a matter', 'as an university', 'as a biessing', 'as a dead', 'as a military', 'as an inde', 'as a peculiar', 'as a good', 'as a bad']\n"
     ]
    }
   ],
   "source": [
    "comparison = re.findall(r'as\\sa[n]?\\s\\w+', text)\n",
    "print (comparison)"
   ]
  },
  {
   "cell_type": "markdown",
   "id": "42501ebb-3b2c-47c2-b355-9e296084a82d",
   "metadata": {},
   "source": [
    "## Curly brackets for a concordance tool\n",
    "\n",
    "We're going to try using curly brackets in our RegEx, and we'll try it out in a concrete example of how curly brackets can be used to build a concordance tool. A concordance tool is used to extract text snippets based on keywords and a range.\n",
    "\n",
    "We will find snippets containing the keyword _eye_. It is a concrete example of how we can point down in the text and see how the term is used exactly. In horror novels, I would imagine that words like eyes is playing a special role.\n",
    "\n",
    "For the task we would also need the full stop sign( `.` ), because it returns any word characters and the curly brackets like this: `{30}.` It checks that we get 30 word characters."
   ]
  },
  {
   "cell_type": "code",
   "execution_count": 69,
   "id": "b45cc2e7-9bec-426c-b690-35958b53234b",
   "metadata": {},
   "outputs": [
    {
     "data": {
      "text/plain": [
       "['trict around us as far as the eye could reach on a clear day th',\n",
       " ' him and the expression of my eyes and features were a complete ',\n",
       " 'see them drowned before their eyes some of the stoutest and who ',\n",
       " 'nd however is a relief to the eye on a broad passage and though',\n",
       " ' spread like a map under your eyes the isle of amak which is the',\n",
       " 'n the island of saltholm your eye follows the swedish coast for',\n",
       " ' forfarshire dialect and with eyes sparkling with pleasure for i',\n",
       " 'ack and very seldoni red long eye lashes beauti fully arched ey']"
      ]
     },
     "execution_count": 69,
     "metadata": {},
     "output_type": "execute_result"
    }
   ],
   "source": [
    "concordance_tool = re.findall(r'.{30}\\beye[s]?\\b.{30}', text)\n",
    "\n",
    "concordance_tool"
   ]
  },
  {
   "cell_type": "markdown",
   "id": "02cb3340-d59c-4b19-a6e9-4c2d81bfaf4d",
   "metadata": {},
   "source": [
    "## Square brackets [A-Z]\n",
    "\n",
    "Find words that begins with capital letters."
   ]
  },
  {
   "cell_type": "code",
   "execution_count": 80,
   "id": "86dd7b47-71fa-452d-8cf9-cdcfd1844cd5",
   "metadata": {},
   "outputs": [
    {
     "name": "stdout",
     "output_type": "stream",
     "text": [
      "{'Spahiards', 'Frenchmen', 'Yarmouth', 'Johns', 'Landscrona', 'Austria', 'Corsber', 'Osterbrandersler', 'Snoghoj', 'Russians', 'Lancnshire', 'Jesus', 'Yætelorgh', 'Funen', 'JSighl', 'Kent', 'Brandenbnrgher', 'Foulises', 'Brahe', 'Humboldt', 'Sprde', 'Moen', 'AUTHENTIC', 'Spanisk', 'Danica', 'Duntzvelt', 'Greeks', 'Hobre', 'Jeremin', 'Temple', 'CtJLATIONS', 'Jike', 'Palais', 'HENMARK', 'Gospel', 'S7', 'Banes', 'Soou', 'Scotcli', 'Karna', 'RICHARD', 'Danskes', 'Lonstrup', 'Nonvegian', 'Champagne', 'Josay', 'BH', 'Norweginns', 'Iceland', 'Norwegians', 'Jiatred', 'Crescent', 'Avards', 'Bardcnfleth', 'Mauy', 'Amongothers', 'Prussian', 'London', 'Greek', 'Jodgc', 'Southern', 'Belts', 'Droch', 'Avindows', 'Hamburgh', 'SWEDISIi', 'Stuarts', 'Jullaud', 'Ringsted', 'Briton', 'Christiansburg', 'Saltholm', 'Jews', 'Grecian', 'CRONBOItG', 'Iieavy', 'Romana', 'Copenhagen', 'ISweden', 'Horsens', 'Sivedes', 'Feeyn', 'Flcmish', 'Elsineur', 'Jutlaud', 'Westenbolz', 'AKK', 'Holstein', 'Gothenburgh', 'MACJJONALD', 'Tunen', 'Northum', 'Cattegat', 'Arundo', 'Gailic', 'Rmean', 'Highlanders', 'THllOUGH', 'Avhere', 'Frederik', 'Littie', 'Englisil', 'IucIi', 'Englisb', 'Svvedish', 'Fladstrand', 'Yorkshire', 'Orandt', 'Patients', 'Buonaparte', 'Whoever', 'Monday', 'Theshock', 'Salzburgh', 'SWEDENV', 'CQtland', 'Leipzig', 'September', 'Caltcgat', 'Arthur', 'Balfic', 'BLACKFRIARS', 'Mayficld', 'Gerinan', 'Ramlbsa', 'Falken', 'Cullen', 'November', 'Highlands', 'Ihrovvn', 'Kongs', 'France', 'Falster', 'DANES', 'Zeeland', 'Sourid', 'Dauislr', 'Cronborg', 'Altona', 'Denmavk', 'HOBROE', 'Irerne', 'Gade', 'Indånders', 'Gertnany', 'Thecxertion', 'Germany', 'Syvende', 'Baskervilles', 'Zee', 'Lanca', 'Hamlet', 'Liimfiord', 'Ilaly', 'Welsh', 'Dutcli', 'Frussian', 'Ordnance', 'Norskes', 'Tycho', 'I80p', 'Tbey', 'Banflshire', 'Flora', 'Tntland', 'Avliich', 'Chinese', 'Norvvegians', 'Sundays', 'JAM', 'Denmark', 'Jpoor', 'Spanish', 'ENGELHOLM', 'Bertuch', 'JUTLANRERS', 'Scavv', 'Lunger', 'Svvedcs', 'Copenhageu', 'Merino', 'Britisb', 'Suffolk', 'Grundsteuen', 'Communications', 'Virgil', 'Crossing', 'Aenf', 'Banish', 'ItTS', 'Goschen', 'Christian', 'Jlussia', 'Sunday', 'Sleswig', 'Eisinore', 'Hungary', 'Jut', 'January', 'NORWEGIANS', 'Odense', 'Holsfeiners', 'Theresources', 'Swedes', 'Malmoe', 'Composts', 'Saxon', 'Brazil', 'Saleraonis', 'Argyleshire', 'Tuiew', 'Xenophon', 'Essex', 'Nyelorg', 'Whor', 'Sonic', 'Dancs', 'Windows', 'Weirnar', 'Middlesex', 'Tostand', 'Scarcelv', 'Sprbe', 'John', 'Scotch', 'Butter', 'Powcrs', 'Hberal', 'Elsiqore', 'Cairo', 'Ilolstein', 'Elsinorc', 'Stdhce', 'Jutlanders', 'Henne', 'Forfarshire', 'Buehan', 'Danisli', 'Jovirnal', 'Covent', 'Arhoos', 'Blackwood', 'Langeland', 'Lessoe', 'Somé', 'Copenhngen', 'Capital', 'Evangelists', 'Germans', 'Qih', 'Sietly', 'ADVERTISEMENT', 'RELIGION', 'DENSfARK', 'Greenwich', 'Aalborg', 'Canada', 'Jul', 'James', 'Ileaveu', 'Callundborg', 'April', 'Grceks', 'Suhm', 'Viborg', 'Thaarup', 'Baltic', 'Bardenfleth', 'Englishman', 'Sweden', 'Thcse', 'Spaniards', 'Cicero', 'Baskerville', 'Nijlorg', 'Borgere', 'Middelfa', 'America', 'Swedisl', 'Publisher', 'Ogilvy', 'Botany', 'Wellesley', 'CHARACTERISTICS', 'Blote', 'Juttish', 'Crescentand', 'Halmstadt', 'LONDON', 'Klopstock', 'Homer', 'Continental', 'Sæbye', 'Christians', 'Turkey', 'TUAVELS', 'S09', 'England', 'December', 'Theshore', 'Ihey', 'Konge', 'October', 'Danisii', 'Moldenhawor', 'Schleswig', 'Julland', 'Sieswig', 'Europc', 'Swedish', 'American', 'Drackenberg', 'Scaw', 'Brilish', 'Riark', 'Copcnlingcn', 'Britisk', 'Greece', 'India', 'Troad', 'Switzerland', 'JiLin', 'Keates', 'Dåne', 'Heyne', 'TUMULT', 'Swedcs', 'Uvcen', 'MIEI', 'Euglish', 'OENMARR', 'Thine', 'Kutton', 'German', 'Jutland', 'Bntch', 'Hivated', 'Kuttner', 'Wenta', 'J8O', 'Naze', 'Scotland', 'Spanisb', 'Unlcss', 'Biisching', 'Folkets', 'VCDONALD', 'Ruris', 'Bralrc', 'Engaged', 'Aarhusto', 'Europe', 'Thames', 'Aalborgers', 'Denraark', 'Kioge', 'Dentnark', 'ACDOXALD', 'Amak', 'Banffshire', 'SWEDEN', 'S08', 'DENMARK', 'Iltese', 'Englisli', 'Engtisli', 'Frederick', 'Fanen', 'Reaumur', 'Utility', 'Nyhurg', 'Meanwhile', 'Hobroe', 'Dorsetshire', 'Laaland', 'Irish', 'Danisb', 'Otia', 'Faroe', 'Lappens', 'Scolch', 'Jtw', 'Aboul', 'ILLIPS', 'Ljttle', 'Norvvay', 'Goltonburgh', 'Thespecies', 'Frauce', 'Warberg', 'Hutton', 'English', 'Officiis', 'Angus', 'British', 'Samsde', 'Editor', 'Frpnch', 'WINTEIt', 'Tiumbers', 'Swcden', 'Getmanv', 'Almighty', 'Helsingborg', 'Skagen', 'Iecland', 'Copen', 'Lulherans', 'Gothenlurgh', 'Christmas', 'Brun', 'Norway', 'Elsinore', 'Prussia', 'Plantations', 'Catteau', 'Scotlnnd', 'Judånders', 'Bonpland', 'Eoglishman', 'Leith', 'Britain', 'Euro', 'Jannary', 'Swedisb', 'Demnark', 'Danes', 'Wcrc', 'Laholm', 'Dauish', 'Norfolk', 'Norwegian', 'Uvays', 'Ireland', 'Scot', 'Scottish', 'European', 'ELSINOItE', 'Trojans', 'MACDONALD', 'EDEM', 'Cormvall', 'DENM', 'Oresund', 'Litet', 'Hebrides', 'Skanderborg', 'Westphalia', 'Fahrenheit', 'Scotchman', 'Dryer', 'Spain', 'Baggesen', 'Britaiu', 'I8O9', 'Gothenburg', 'Corsoer', 'Roskilde', 'Bardenfletb', 'Westenholz', 'Ringstad', 'Iaw', 'COVENT', 'Fiinen', 'Hween', 'Nijborg', 'Corinthian', 'Scolland', 'Italian', 'Kongens', 'Bodoni', 'NAUTICAL', 'Griesbach', 'Sprogoe', 'Engelholm', 'Avortby', 'God', 'Middelfahrt', 'Amalien', 'Dondon', 'Tranquebar', 'Crcscent', 'Hirschholm', 'AVestenholz', 'Sciences', 'Odensee', 'Ifyou', 'Aarhus', 'Slagelse', 'Sabbath'}\n"
     ]
    }
   ],
   "source": [
    "upper_case_words = re.findall(r'[A-Z]\\w+', full_text)\n",
    "upper_case_words = [i for i in upper_case_words if i.lower() not in full_text]\n",
    "\n",
    "print (set(upper_case_words))"
   ]
  },
  {
   "cell_type": "markdown",
   "id": "def97f3f-a97e-4156-99e5-9c7339b50fd4",
   "metadata": {},
   "source": [
    "## Fuzzy searches in ocr text\n",
    "\n",
    "Regex can also be used for performing a fuzzy search on OCR processed text. Let's try to locate instances of the word \"danish\" or \"danili\" within the text, allowing for slight variations or errors that might occur during OCR processing.\n",
    "\n",
    "`.{30}`: Matching any 30 characters before and after the target word, providing context around the match.\n",
    "\n",
    "`danis[h|li]?`: Looking for the word \"danish\" or \"danili\", where:\n",
    "\n",
    "`danis` is the fixed part of the word.\n",
    "\n",
    "`[h|li]?` allows for either \"h\" or \"li\" to follow \"danis\", accommodating potential OCR errors or variations.\n"
   ]
  },
  {
   "cell_type": "code",
   "execution_count": 81,
   "id": "d287cf63-a624-4e63-91da-df8b94dd6b6d",
   "metadata": {},
   "outputs": [
    {
     "data": {
      "text/plain": [
       "['in the spring of through some danish and swedish provinces and he ',\n",
       " 'countries and procure for the danish prisoners in britain as kind ',\n",
       " ' opportu nity of thanking the danish monarch and nation for their ',\n",
       " 'mber f o n f in e d here in a danisli prison i have abundance of t',\n",
       " 'be plundered the moment their danish enemies could ap proach the s',\n",
       " ' a lifeless con dition by the danish boatmen but was soon restored',\n",
       " 'leaned and at the rate of one danish mile per hour they devise man',\n",
       " 'ore where in the space of one danisli or four english milesand thr',\n",
       " 'of the sailors and one of the danish soldiers were much bruised by',\n",
       " 'e and lieutenant henne of the danish navy treated me with all poss',\n",
       " 't any ceremony six masters of danish pri vateers half drunk togeth',\n",
       " 'en and brought in bertfby thc danish pri vateers there are twenty ',\n",
       " 'e language commonly spoken is danish but the peoplc ot rank and ed',\n",
       " 'jackets of their own and some danish jackets or great coats lent t',\n",
       " 'asts of norway sweden and the danish dominions the frost has set i',\n",
       " 'defained hero waiting for his danish ma iesty s answer to my repre',\n",
       " ' the bravery and power of the danisli nation and is sometirnes abs',\n",
       " 'eir own i must however do the danish offi cers liere the justfee t',\n",
       " 'ous journey and also save his danish majesty and myself tlie troub',\n",
       " 's are so infinitely below the danish carts and implements s i brit',\n",
       " 'eet and keep to ourselves the danish ships and property which have',\n",
       " 'l run of officers both in the danisb array and navy and especiall',\n",
       " 'oney of jutland is the common danish currency universal over the p',\n",
       " 'e jutlanrers the value of the danish dollar in was four shillings ',\n",
       " 'ge called hobre six and a halfdanish or about tliirty and one thir',\n",
       " ' and frozen indifference of a danish landlady in a country village',\n",
       " 'ery thing doneon board by the danish sailors was u slow clumsy and',\n",
       " 'and agricultural model of the danish states rests merely upon its ',\n",
       " ' to travel at the rate of one danisii mile per hour i f he fail in',\n",
       " 'h money in tomb stonos as the danisb tbe cburches are all iull of',\n",
       " 'language fban eornmen peasant danisli in fbis predicament i as usu',\n",
       " 'y understood all my vants her danisli and my german mixed witb dan',\n",
       " 'ommon in fiinen as in all the danish isles oak and eltier as well ',\n",
       " ' march immediately two mortal danish miles to a place called slage',\n",
       " 'ner travelling in winter over danish ferrics ought to be well supp',\n",
       " 'ionary pru dence ofenglish or danish sailors alas after dining on ',\n",
       " 'the prospect of any more long danish ferries that the sooncr we we',\n",
       " 'll when you tell them that we danish women have female hearts like',\n",
       " ' slagelse like almost all the danish villages havelately soen sulf',\n",
       " 'ection on the morality of the danish people and still less on the ',\n",
       " 's through densfark and m of a danish mile all tke way from corsoer',\n",
       " 'been the burial placø o f the danish royal fainily i conclude the ',\n",
       " 'ac count of the state of tlie danish capital letter x i i elsinore',\n",
       " 't impor tant division of tlie danish monaichy it contains the me t',\n",
       " 't possession of that queen of danisli isles the fertile and beauti',\n",
       " ' of magnificence becoming the danish capital and monarchy i had th',\n",
       " ' figures the bibleused by the danish missionaries at tranquebar in',\n",
       " 'etwixt tliat language and the danish tbey k v r v ih i ri v t f i ',\n",
       " 'actice of child murder in the danish metropolis it would require a',\n",
       " 'tragedies and comedies in the danish tc ngue i liad such vågne and',\n",
       " ' sweden i other in dondon the danish ship would be found nearly on',\n",
       " 'ng conversation to day with a danish gentle man uponthe expediency',\n",
       " 'l er the question between the danish gentleman and myself i concei',\n",
       " 't of the present state of the danish monarchy to assert that its r',\n",
       " 'e abolition of slavery in the danish colonies much of the public f',\n",
       " 'e of long continuance let the danish government return to its old ',\n",
       " 'by theactive aid of six stout danish seamen the distance is only t',\n",
       " 'iest blockhead traversing the danish provinces must learn if he kn',\n",
       " 'houses is more wealthy on the danish side i feel however more plea',\n",
       " 'in travelling the swedish and danish dollar were formerly of the s',\n",
       " ' nearly so but at present the danish rix dollar is only worth two ',\n",
       " 'valued at three shillings the danish dollar consists oi forty eigh',\n",
       " 'ivers or ninety six skillings danish the swedish of forty eight sk',\n",
       " 'rough the greater part of the danish dominions agriculture excepti']"
      ]
     },
     "execution_count": 81,
     "metadata": {},
     "output_type": "execute_result"
    }
   ],
   "source": [
    "fuzzy_search = re.findall(r'.{30}danis[h|li]?.{30}', text)\n",
    "\n",
    "fuzzy_search"
   ]
  },
  {
   "cell_type": "code",
   "execution_count": null,
   "id": "4afc18d1-b408-48b4-93c4-3bbe5733b0fd",
   "metadata": {},
   "outputs": [],
   "source": []
  }
 ],
 "metadata": {
  "kernelspec": {
   "display_name": "Python 3 (ipykernel)",
   "language": "python",
   "name": "python3"
  },
  "language_info": {
   "codemirror_mode": {
    "name": "ipython",
    "version": 3
   },
   "file_extension": ".py",
   "mimetype": "text/x-python",
   "name": "python",
   "nbconvert_exporter": "python",
   "pygments_lexer": "ipython3",
   "version": "3.12.7"
  }
 },
 "nbformat": 4,
 "nbformat_minor": 5
}
