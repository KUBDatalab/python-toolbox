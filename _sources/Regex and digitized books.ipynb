{
 "cells": [
  {
   "cell_type": "markdown",
   "id": "a43625f1-a516-4672-8a3e-28a86a4575a9",
   "metadata": {},
   "source": [
    "# Regex and digitized books\n",
    "\n",
    "## Get text data\n",
    "\n",
    "Let us download one of the digitized books from The Royal Danish Library. The digitized books are ocr scanned (Optical Character Recognition) and available as pdf-files.\n",
    "\n",
    "The book is [Macdonald, James. Travels through Denmark and Part of Sweden during the Winter and Spring of the Year 1809 : Containing Authentic Particulars of the Domestic Condition of Those Countries, the Opinions of the Inhabitants, and the State of Agriculture. 2015.](https://soeg.kb.dk/permalink/45KBDK_KGL/1pioq0f/alma99122806627205763)\n",
    "\n",
    "We download the book, extract the text content and store it in a variable called full_text.\n"
   ]
  },
  {
   "cell_type": "code",
   "execution_count": null,
   "id": "d1cf97d6-1af5-4915-933e-00e48d9440d1",
   "metadata": {},
   "outputs": [],
   "source": [
    "#! pip install PyPDF2\n",
    "import requests\n",
    "from io import BytesIO\n",
    "from PyPDF2 import PdfReader\n",
    "\n",
    "# URL to the ocr scanned, pdf verison of the text\n",
    "url = \"https://www.kb.dk/e-mat/dod/130014244515_bw.pdf\"\n",
    "\n",
    "# Download the pdf file\n",
    "response = requests.get(url)\n",
    "response.raise_for_status()  # Check if the request was successful\n",
    "\n",
    "# Open the pdf file in memory\n",
    "pdf_file = BytesIO(response.content)\n",
    "\n",
    "# Create a PDF reader object\n",
    "reader = PdfReader(pdf_file)\n",
    "\n",
    "# Extract text from each page starting from page 5\n",
    "text_content = []\n",
    "for page in reader.pages[4:]:\n",
    "    text_content.append(page.extract_text())\n",
    "\n",
    "# Join all the text content into a single string\n",
    "full_text = \"\\n\".join(text_content)\n",
    "\n",
    "# Print the extracted text\n",
    "print(full_text[0:1000])"
   ]
  },
  {
   "cell_type": "code",
   "execution_count": null,
   "id": "bcfc0c17-f7a2-438e-abc5-352801694bc0",
   "metadata": {},
   "outputs": [],
   "source": [
    "reader.pages[0].extract_text()"
   ]
  },
  {
   "cell_type": "markdown",
   "id": "1bca5859-854a-4ef0-a539-256589a47028",
   "metadata": {},
   "source": [
    "## RegEx to clean / preprocess text \n",
    "\n",
    "When we work with Regex, the website [regex101.com](https://regex101.com/) is a brilliant tool. We can help partly to understand Regex, partly to write a Regex pattern. It is a good idea to take ten minutes to familiarize yourself with the page.\n",
    "\n",
    "Try inserting this text string in the 'TEXT STRING' field: \n",
    "\n",
    "_He observes, that he has not only committed to paper his  \n",
    "own opinions, but also, those of persons with wliom he con-  \n",
    "versed in the above-mcnt ioned eountries_ i\n",
    "\n",
    "In the 'REGULAR EXPRESSION' field you can write this pattern `'W+\\'`.\n",
    "\n",
    "What happens when you start typing?\n",
    "\n",
    "\n",
    "In the field EXPLANATION, at the top of the right side, you can read an explanation of the regex pattern.\n",
    "\n",
    "### Write a function to clean text\n",
    "\n",
    "The [Python function](https://www.w3schools.com/python/python_functions.asp) 'clean' below we use to clean the text of all characters other than letters.\n"
   ]
  },
  {
   "cell_type": "code",
   "execution_count": null,
   "id": "0e2bf2d2-7d7b-4990-a9d0-47fdfacdae6f",
   "metadata": {},
   "outputs": [],
   "source": [
    "import re\n",
    "def clean(text): \n",
    "    \n",
    "    # match a variety of punctuation and special characters\n",
    "    # backslash \\ and the pipe symbols | plays important roles, for example here \\? \n",
    "    # Now it is a good idea to look up a see what \\ and | does \n",
    "    text = re.sub(r'\\.|,|:|;|!|\\?|\\(|\\)|\\||\\+|\\'|\\\"|‘|’|“|”|\\'|\\’|…|\\-|_|–|—|\\$|&|\\*|>|<|\\/|\\[|\\]', ' ', text)\n",
    "\n",
    "    # Regex pattern to match numbers and words containing numbers\n",
    "    text = re.sub(r'\\b\\w*\\d\\w*\\b', '', text)\n",
    "     \n",
    "\n",
    "    # lower the letters\n",
    "    text = text.lower()\n",
    "\n",
    "    # replace sequences of non-word characters ('\\W+') with a single space. \n",
    "    # The 'strip()' removes any leading or tailing whitespaces that could come from the substitution.\n",
    "    text = re.sub(r'\\W+', ' ', text).strip()\n",
    "    \n",
    "    return text\n",
    "    \n",
    "\n",
    "text = clean(full_text)"
   ]
  },
  {
   "cell_type": "code",
   "execution_count": null,
   "id": "5ccf67c5-9447-4187-af3f-66e5244cc495",
   "metadata": {},
   "outputs": [],
   "source": [
    "text[:3000]"
   ]
  },
  {
   "cell_type": "markdown",
   "id": "36c48d04-8c85-48a5-ace1-60f13935ecff",
   "metadata": {},
   "source": [
    "## w+ together with \\b\n",
    "\n",
    "Why does anything happen on sunday, monday or yesterday?\n",
    "\n",
    "Find words with special endings, e.g. _day_, can be a help to gain insight into where and when the literature takes place.\n",
    "\n",
    "The regex pattern `\\w+day` is used to find sequences of word characters that end with the letter 'day'.\n",
    "\n",
    "`\\b` finds the bounderies of where letters starts or ends.\n",
    "\n",
    "You can also use the endings to find grammatical forms, e.g. words with a special suffix like '-ly' would be relatively easy to identify. Try it.\n",
    "\n",
    "\n",
    "\n"
   ]
  },
  {
   "cell_type": "code",
   "execution_count": null,
   "id": "a55418f3-76b1-45b0-bce9-05cac9069415",
   "metadata": {},
   "outputs": [],
   "source": [
    "ending = re.findall(r'\\w+day\\b', text)\n",
    "print(ending)"
   ]
  },
  {
   "cell_type": "markdown",
   "id": "1660427a-a14f-455d-87ee-a8ab539ba5bf",
   "metadata": {},
   "source": [
    "## More metacharacters, as well as pipes, lists and question marks\n",
    "\n",
    "In literature, comparisons are often used to illustrate points more clearly by putting pictures on what you want to describe. Comparisons also contribute to making the text more lively and interesting.\n",
    "\n",
    "But regex makes it a manageable task to retrieve examples of comparisons, because we can find text strings that follow the pattern in a typical comparison.\n",
    "\n",
    "We can illustrate it in the following way. We look for phrases whose pattern is either as a ... or as an ....\n",
    "\n",
    "There are two different ways.\n",
    "\n",
    "First way is to use pipe `|`. Pipe means \"or\". The regex pattern will then look like this: `'as\\sa\\s\\w+|as\\san\\s\\w+'`\n",
    "\n",
    "Another way is to use the list character `[]`? It looks like this: `'as\\sa[n]?\\s\\w+'`.\n",
    "\n",
    "In the list, letters can be added that can stand in that place in the word. The question mark indicates that the letter may or may not be there."
   ]
  },
  {
   "cell_type": "code",
   "execution_count": null,
   "id": "928bec88-0a53-4f65-bde3-8460cd23d2b6",
   "metadata": {},
   "outputs": [],
   "source": [
    "comparison = re.findall(r'as\\sa\\s\\w+', text)\n",
    "print (comparison)"
   ]
  },
  {
   "cell_type": "code",
   "execution_count": null,
   "id": "10fde00b-64cf-4d3d-b644-de3c9d2b317c",
   "metadata": {},
   "outputs": [],
   "source": [
    "comparison = re.findall(r'as\\sa\\s\\w+|as\\san\\s\\w+', text)\n",
    "print (comparison)"
   ]
  },
  {
   "cell_type": "code",
   "execution_count": null,
   "id": "49af9a60-da36-4819-8fff-cc99955ca5e5",
   "metadata": {},
   "outputs": [],
   "source": [
    "comparison = re.findall(r'as\\sa[n]?\\s\\w+', text)\n",
    "print (comparison)"
   ]
  },
  {
   "cell_type": "markdown",
   "id": "42501ebb-3b2c-47c2-b355-9e296084a82d",
   "metadata": {},
   "source": [
    "## Curly brackets for a concordance tool\n",
    "\n",
    "We're going to try using curly brackets in our RegEx, and we'll try it out in a concrete example of how curly brackets can be used to build a concordance tool. A concordance tool is used to extract text snippets based on keywords and a range.\n",
    "\n",
    "We will find snippets containing the keyword _eye_. It is a concrete example of how we can point down in the text and see how the term is used exactly. In horror novels, I would imagine that words like eyes is playing a special role.\n",
    "\n",
    "For the task we would also need the full stop sign( `.` ), because it returns any word characters and the curly brackets like this: `{30}.` It checks that we get 30 word characters."
   ]
  },
  {
   "cell_type": "code",
   "execution_count": null,
   "id": "b45cc2e7-9bec-426c-b690-35958b53234b",
   "metadata": {},
   "outputs": [],
   "source": [
    "concordance_tool = re.findall(r'.{30}\\beye[s]?\\b.{30}', text)\n",
    "\n",
    "concordance_tool"
   ]
  },
  {
   "cell_type": "markdown",
   "id": "02cb3340-d59c-4b19-a6e9-4c2d81bfaf4d",
   "metadata": {},
   "source": [
    "## Square brackets [A-Z]\n",
    "\n",
    "Find words that begins with capital letters."
   ]
  },
  {
   "cell_type": "code",
   "execution_count": null,
   "id": "86dd7b47-71fa-452d-8cf9-cdcfd1844cd5",
   "metadata": {},
   "outputs": [],
   "source": [
    "upper_case_words = re.findall(r'[A-Z]\\w+', full_text)\n",
    "upper_case_words = [i for i in upper_case_words if i.lower() not in full_text]\n",
    "\n",
    "print (set(upper_case_words))"
   ]
  },
  {
   "cell_type": "markdown",
   "id": "def97f3f-a97e-4156-99e5-9c7339b50fd4",
   "metadata": {},
   "source": [
    "## Fuzzy searches in ocr text\n",
    "\n",
    "Regex can also be used for performing a fuzzy search on OCR processed text. Let's try to locate instances of the word \"danish\" or \"danili\" within the text, allowing for slight variations or errors that might occur during OCR processing.\n",
    "\n",
    "`.{30}`: Matching any 30 characters before and after the target word, providing context around the match.\n",
    "\n",
    "`danis[h|li]?`: Looking for the word \"danish\" or \"danili\", where:\n",
    "\n",
    "`danis` is the fixed part of the word.\n",
    "\n",
    "`[h|li]?` allows for either \"h\" or \"li\" to follow \"danis\", accommodating potential OCR errors or variations.\n"
   ]
  },
  {
   "cell_type": "code",
   "execution_count": null,
   "id": "d287cf63-a624-4e63-91da-df8b94dd6b6d",
   "metadata": {},
   "outputs": [],
   "source": [
    "fuzzy_search = re.findall(r'.{30}danis[h|li]?.{30}', text)\n",
    "\n",
    "fuzzy_search"
   ]
  },
  {
   "cell_type": "code",
   "execution_count": null,
   "id": "4afc18d1-b408-48b4-93c4-3bbe5733b0fd",
   "metadata": {},
   "outputs": [],
   "source": []
  }
 ],
 "metadata": {
  "kernelspec": {
   "display_name": "Python 3 (ipykernel)",
   "language": "python",
   "name": "python3"
  },
  "language_info": {
   "codemirror_mode": {
    "name": "ipython",
    "version": 3
   },
   "file_extension": ".py",
   "mimetype": "text/x-python",
   "name": "python",
   "nbconvert_exporter": "python",
   "pygments_lexer": "ipython3",
   "version": "3.12.7"
  }
 },
 "nbformat": 4,
 "nbformat_minor": 5
}
