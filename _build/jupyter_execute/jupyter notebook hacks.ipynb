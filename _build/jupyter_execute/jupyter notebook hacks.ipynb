{
 "cells": [
  {
   "cell_type": "markdown",
   "id": "b00a7192-8628-4ec7-8511-39f9b04bf73d",
   "metadata": {},
   "source": [
    "# Jupyter notebook hacks\n",
    "\n"
   ]
  },
  {
   "cell_type": "markdown",
   "id": "1154b9ba-ea4b-470a-96dc-32ce27a354d3",
   "metadata": {},
   "source": [
    "<div class=\"alert alert-block alert-info\"> <b>NOTE</b> Use blue boxes for Tips and notes. </div>\n",
    "\n",
    "<div class=\"alert alert-block alert-success\"> Use green boxes sparingly, and only for some specific purpose that the other boxes can't cover. For example, if you have a lot of related content to link to, maybe you decide to use green boxes for related links from each section of a notebook. </div>\n",
    "\n",
    "<div class=\"alert alert-block alert-warning\"> Use yellow boxes for examples that are not inside code cells, or use for mathematical formulas if needed. </div>\n",
    "\n",
    "<div class=\"alert alert-block alert-danger\"> In general, just avoid the red boxes. </div>\n",
    "\n",
    "_Source: https://gist.github.com/DanielKotik/4b81480c479a57e0dd13ac4d153e4451_  "
   ]
  },
  {
   "cell_type": "markdown",
   "id": "0218873b-e8b1-4bdb-8e7a-85626d9234ae",
   "metadata": {},
   "source": [
    "## Headings\n",
    "Use the number sign (#) followed by a blank space for notebook titles and section headings:\n",
    "\n",
    "        # for titles\n",
    "        ## for major headings\n",
    "        ### for subheadings\n",
    "        #### for 4th level subheadings\n",
    "\n",
    "## Emphasis\n",
    "  \n",
    "        Bold text: __string__ or **string**\n",
    "        Italic text: _string_ or *string*\n",
    "\n",
    "_Source: https://www.ibm.com/docs/en/watson-studio-local/1.2.3?topic=notebooks-markdown-jupyter-cheatsheet_"
   ]
  },
  {
   "cell_type": "markdown",
   "id": "7b8a1bc6-b917-4009-b099-24051e6076f5",
   "metadata": {},
   "source": [
    "## Code\n",
    "\n",
    "You can get the syntax highlighting of code if programming language name is mentioned after the ‘```’ three ticks (GitHub flavored markdown):\n",
    "\n",
    "```Python\n",
    "import pandas as pd\n",
    "```\n",
    "\n",
    "\n",
    "\n",
    "## Table\n",
    "\n",
    "You can use ‘|’ to separate each column and ‘-’ to create the headers:\n",
    "\n",
    "|Algorithm          | Jaccard | F1-score | LogLoss |\n",
    "|:------------------|:--------|:---------|:--------|\n",
    "| KNN               | ?       | ?        | NA      |\n",
    "| Decision Tree     | ?       | ?        | NA      |\n",
    "| SVM               | ?       | ?        | NA      |\n",
    "| LogisticRegression| ?       | ?        | ?       |\n",
    "\n",
    "Note: Colons can be used to align columns.\n",
    "\n",
    ": — — Left align\n",
    "\n",
    "— -: Right align\n",
    "\n",
    ": — -: Center align\n",
    "\n",
    "\n",
    "\n",
    "## External link\n",
    "\n",
    "You can use [text link](URL for the site), where the text link enclosed in a square bracket and the URL for the site is enclosed in a parenthesis followed by the URL:\n",
    "\n",
    "[Google](https://www.google.com)\n",
    "\n",
    "\n",
    "## Image insertion\n",
    "\n",
    "You can add an exclamation mark (!), followed by alt text in brackets, and the path or URL to the image asset in parentheses:\n",
    "\n",
    "![](https://jupyter.org/assets/homepage/main-logo.svg)\n",
    "\n",
    "\n",
    "_Source: https://medium.com/@us.panliu/most-useful-jupyter-notebook-markdown-tutorial-d270fb065bd2_"
   ]
  },
  {
   "cell_type": "code",
   "execution_count": null,
   "id": "0b5df01b-e3aa-4e38-be0a-b03862139cfe",
   "metadata": {},
   "outputs": [],
   "source": []
  }
 ],
 "metadata": {
  "kernelspec": {
   "display_name": "Python 3 (ipykernel)",
   "language": "python",
   "name": "python3"
  },
  "language_info": {
   "codemirror_mode": {
    "name": "ipython",
    "version": 3
   },
   "file_extension": ".py",
   "mimetype": "text/x-python",
   "name": "python",
   "nbconvert_exporter": "python",
   "pygments_lexer": "ipython3",
   "version": "3.12.5"
  }
 },
 "nbformat": 4,
 "nbformat_minor": 5
}