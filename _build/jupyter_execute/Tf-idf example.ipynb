{
 "cells": [
  {
   "cell_type": "markdown",
   "id": "1d76060e-39a9-424e-8fcf-16154511c023",
   "metadata": {},
   "source": [
    "# TF-IDF example"
   ]
  },
  {
   "cell_type": "markdown",
   "id": "d47ffc78-ccd9-4b40-b33c-465b4e653d14",
   "metadata": {},
   "source": [
    "### Function for calculating the relative frequency (term frequency or tf)"
   ]
  },
  {
   "cell_type": "code",
   "execution_count": 1,
   "id": "3e18a838-259d-4635-a8a3-cbdfc60ba62e",
   "metadata": {},
   "outputs": [
    {
     "name": "stdout",
     "output_type": "stream",
     "text": [
      "{'this': 0.2, 'is': 0.2, 'a': 0.2, 'sample': 0.2, 'document': 0.2}\n",
      "{'this': 0.2, 'document': 0.2, 'is': 0.2, 'another': 0.2, 'example': 0.2}\n",
      "{'this': 0.2, 'example': 0.2, 'document': 0.2, 'is': 0.2, 'different': 0.2}\n"
     ]
    }
   ],
   "source": [
    "# Example documents\n",
    "docs = [\n",
    "    \"this is a sample document\",\n",
    "    \"this document is another example\",\n",
    "    \"this example document is different\"\n",
    "]\n",
    "\n",
    "# Calulate tf\n",
    "def compute_tf(doc):\n",
    "    tf_dict = {}\n",
    "    words = doc.split()\n",
    "    total_words = len(words)\n",
    "    for word in words:\n",
    "        tf_dict[word] = tf_dict.get(word, 0) + 1\n",
    "    for word in tf_dict:\n",
    "        tf_dict[word] = tf_dict[word] / total_words\n",
    "    return tf_dict\n",
    "\n",
    "for doc in docs:\n",
    "    print (compute_tf(doc))"
   ]
  },
  {
   "cell_type": "markdown",
   "id": "4b9b2dd6-6d53-496f-88aa-a30c15c032a6",
   "metadata": {},
   "source": [
    "## Function to calculate the inverse document frequency (inverse document frequency or idf)\n",
    "\n",
    "IDF is a measure of how important a word is to one document in a collection (or corpus) of documents.\n",
    "The intuition behind IDF is that words that appear in many documents are less informative than those that appear in fewer documents.\n"
   ]
  },
  {
   "cell_type": "code",
   "execution_count": 2,
   "id": "d28802da-e1ed-41c2-9b86-52e607cef5e3",
   "metadata": {},
   "outputs": [
    {
     "name": "stdout",
     "output_type": "stream",
     "text": [
      "{'document': 0.0, 'a': 1.0986122886681098, 'sample': 1.0986122886681098, 'this': 0.0, 'is': 0.0, 'another': 1.0986122886681098, 'example': 0.4054651081081644, 'different': 1.0986122886681098}\n"
     ]
    }
   ],
   "source": [
    "docs = [\n",
    "    \"this is a sample document\",\n",
    "    \"this document is another example\",\n",
    "    \"this example document is different\"\n",
    "]\n",
    "\n",
    "\n",
    "import math\n",
    "\n",
    "# Calculate idf\n",
    "def compute_idf(docs):\n",
    "    idf_dict = {}\n",
    "    total_docs = len(docs)\n",
    "    for doc in docs:\n",
    "        words = set(doc.split())\n",
    "        for word in words:\n",
    "            idf_dict[word] = idf_dict.get(word, 0) + 1\n",
    "    for word in idf_dict:\n",
    "        idf_dict[word] = math.log(total_docs / float(idf_dict[word]))\n",
    "    return idf_dict\n",
    "\n",
    "print (compute_idf(docs))"
   ]
  },
  {
   "cell_type": "markdown",
   "id": "9100f0db-7fb4-4dd7-8d2b-69531d4c9b28",
   "metadata": {},
   "source": [
    "## Functions to calculate tf-idf\n",
    "\n",
    "TF-IDF stands for Term Frequency-Inverse Document Frequency and is used to assess the importance of a word in a document in relation to a collection of documents (corpus).\n"
   ]
  },
  {
   "cell_type": "code",
   "execution_count": 3,
   "id": "c9c06563-1716-4f1b-870b-bcbf1e6ef0ee",
   "metadata": {},
   "outputs": [
    {
     "name": "stdout",
     "output_type": "stream",
     "text": [
      "TF-IDF for dokument 1:\n",
      "  this: 0.0000\n",
      "  is: 0.0000\n",
      "  a: 0.2197\n",
      "  sample: 0.2197\n",
      "  document: 0.0000\n",
      "TF-IDF for dokument 2:\n",
      "  this: 0.0000\n",
      "  document: 0.0000\n",
      "  is: 0.0000\n",
      "  another: 0.2197\n",
      "  example: 0.0811\n",
      "TF-IDF for dokument 3:\n",
      "  this: 0.0000\n",
      "  example: 0.0811\n",
      "  document: 0.0000\n",
      "  is: 0.0000\n",
      "  different: 0.2197\n"
     ]
    },
    {
     "name": "stdout",
     "output_type": "stream",
     "text": [
      "\n",
      "\n"
     ]
    },
    {
     "data": {
      "text/html": [
       "<div>\n",
       "<style scoped>\n",
       "    .dataframe tbody tr th:only-of-type {\n",
       "        vertical-align: middle;\n",
       "    }\n",
       "\n",
       "    .dataframe tbody tr th {\n",
       "        vertical-align: top;\n",
       "    }\n",
       "\n",
       "    .dataframe thead th {\n",
       "        text-align: right;\n",
       "    }\n",
       "</style>\n",
       "<table border=\"1\" class=\"dataframe\">\n",
       "  <thead>\n",
       "    <tr style=\"text-align: right;\">\n",
       "      <th></th>\n",
       "      <th>this</th>\n",
       "      <th>is</th>\n",
       "      <th>a</th>\n",
       "      <th>sample</th>\n",
       "      <th>document</th>\n",
       "      <th>another</th>\n",
       "      <th>example</th>\n",
       "      <th>different</th>\n",
       "    </tr>\n",
       "  </thead>\n",
       "  <tbody>\n",
       "    <tr>\n",
       "      <th>0</th>\n",
       "      <td>0.0</td>\n",
       "      <td>0.0</td>\n",
       "      <td>0.219722</td>\n",
       "      <td>0.219722</td>\n",
       "      <td>0.0</td>\n",
       "      <td>0.000000</td>\n",
       "      <td>0.000000</td>\n",
       "      <td>0.000000</td>\n",
       "    </tr>\n",
       "    <tr>\n",
       "      <th>1</th>\n",
       "      <td>0.0</td>\n",
       "      <td>0.0</td>\n",
       "      <td>0.000000</td>\n",
       "      <td>0.000000</td>\n",
       "      <td>0.0</td>\n",
       "      <td>0.219722</td>\n",
       "      <td>0.081093</td>\n",
       "      <td>0.000000</td>\n",
       "    </tr>\n",
       "    <tr>\n",
       "      <th>2</th>\n",
       "      <td>0.0</td>\n",
       "      <td>0.0</td>\n",
       "      <td>0.000000</td>\n",
       "      <td>0.000000</td>\n",
       "      <td>0.0</td>\n",
       "      <td>0.000000</td>\n",
       "      <td>0.081093</td>\n",
       "      <td>0.219722</td>\n",
       "    </tr>\n",
       "  </tbody>\n",
       "</table>\n",
       "</div>"
      ],
      "text/plain": [
       "   this   is         a    sample  document   another   example  different\n",
       "0   0.0  0.0  0.219722  0.219722       0.0  0.000000  0.000000   0.000000\n",
       "1   0.0  0.0  0.000000  0.000000       0.0  0.219722  0.081093   0.000000\n",
       "2   0.0  0.0  0.000000  0.000000       0.0  0.000000  0.081093   0.219722"
      ]
     },
     "execution_count": 3,
     "metadata": {},
     "output_type": "execute_result"
    }
   ],
   "source": [
    "docs = [\n",
    "    \"this is a sample document\",\n",
    "    \"this document is another example\",\n",
    "    \"this example document is different\"\n",
    "]\n",
    "\n",
    "import math\n",
    "\n",
    "# Step 1: compute TF\n",
    "def compute_tf(doc):\n",
    "    tf_dict = {}\n",
    "    words = doc.split()\n",
    "    total_words = len(words)\n",
    "    for word in words:\n",
    "        tf_dict[word] = tf_dict.get(word, 0) + 1\n",
    "    for word in tf_dict:\n",
    "        tf_dict[word] = tf_dict[word] / total_words\n",
    "    return tf_dict\n",
    "\n",
    "# Step 2: compute IDF\n",
    "def compute_idf(docs):\n",
    "    idf_dict = {}\n",
    "    total_docs = len(docs)\n",
    "    for doc in docs:\n",
    "        words = set(doc.split())\n",
    "        for word in words:\n",
    "            idf_dict[word] = idf_dict.get(word, 0) + 1\n",
    "    for word in idf_dict:\n",
    "        idf_dict[word] = math.log(total_docs / float(idf_dict[word]))\n",
    "    return idf_dict\n",
    "\n",
    "# Stepn 3: compute TF-IDF\n",
    "def compute_tfidf(tf, idf):\n",
    "    tfidf = {}\n",
    "    for word in tf:\n",
    "        tfidf[word] = tf[word] * idf.get(word, 0)\n",
    "    return tfidf\n",
    "\n",
    "# Compute TF for each document\n",
    "tf_list = [compute_tf(doc) for doc in docs]\n",
    "\n",
    "# Compute IDF for all documents\n",
    "idf = compute_idf(docs)\n",
    "\n",
    "# Compute TF-IDF for each document\n",
    "tfidf_list = [compute_tfidf(tf, idf) for tf in tf_list]\n",
    "\n",
    "# print the results\n",
    "for i, tfidf in enumerate(tfidf_list):\n",
    "    print(f\"TF-IDF for dokument {i+1}:\")\n",
    "    for word, score in tfidf.items():\n",
    "        print(f\"  {word}: {score:.4f}\")\n",
    "\n",
    "import pandas as pd\n",
    "# Send the TF-IDF results into a DataFrame\n",
    "df = pd.DataFrame(tfidf_list).fillna(0)\n",
    "print ('\\n')\n",
    "df"
   ]
  },
  {
   "cell_type": "code",
   "execution_count": null,
   "id": "c0ae2d42-286c-40a7-96ce-9a8a5c8b0d68",
   "metadata": {},
   "outputs": [],
   "source": []
  }
 ],
 "metadata": {
  "kernelspec": {
   "display_name": "Python 3 (ipykernel)",
   "language": "python",
   "name": "python3"
  },
  "language_info": {
   "codemirror_mode": {
    "name": "ipython",
    "version": 3
   },
   "file_extension": ".py",
   "mimetype": "text/x-python",
   "name": "python",
   "nbconvert_exporter": "python",
   "pygments_lexer": "ipython3",
   "version": "3.12.7"
  }
 },
 "nbformat": 4,
 "nbformat_minor": 5
}