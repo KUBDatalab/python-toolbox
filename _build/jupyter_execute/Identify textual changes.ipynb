{
 "cells": [
  {
   "cell_type": "markdown",
   "id": "11dd1830-c169-4d34-8137-4198a8e652ca",
   "metadata": {},
   "source": [
    "# Identify textual changes\n",
    "\n",
    "As example data we use the first chapter of two different editions of the novel Frankenstein.\n",
    "\n",
    "<div class=\"alert alert-block alert-info\">\n",
    "    \n",
    "**Metadata first book.**\n",
    "**Author:** _Shelley, Mary Wollstonecraft, 1797-1851_\n",
    "**Title:** _Frankenstein; Or, The Modern Prometheus_\n",
    "**Original Publication:** _United Kingdom: Lackington, Hughes, Harding, Mavor, & Jones, 1818._ \n",
    "\n",
    "**Metadata second book.**\n",
    "**Author:** _Shelley, Mary Wollstonecraft, 1797-1851_\n",
    "**Title:** _Frankenstein; Or, The Modern Prometheus_\n",
    "**Original Publication:** _United Kingdom : H. Colburn and R. Bentley, 1831._ \n",
    "</div>\n",
    "\n",
    "After we have extracted the first chapter of each book we try two different approaches to text comparison. \n",
    "\n",
    "To the first approaches we use the library [difflib](https://docs.python.org/3/library/difflib.html), that is originally developed to a visual comparision of diffenrent versions of code.\n",
    "\n",
    "To the second approaches we use the library [fuzzywuzzy](https://pypi.org/project/fuzzywuzzy/), that is using Levenshtein distance to calculate the differences between sequence."
   ]
  },
  {
   "cell_type": "markdown",
   "id": "f144e448-983a-47e9-8e98-d194f341c71a",
   "metadata": {},
   "source": [
    "## Download the two novels from Gutenberg.org\n",
    "\n",
    "Download the two novels from Gutenberg.org and extract the first chapter of each book."
   ]
  },
  {
   "cell_type": "code",
   "execution_count": 1,
   "id": "19526fd8-20c3-4b09-b5f5-a11f7a6c0259",
   "metadata": {},
   "outputs": [],
   "source": [
    "import urllib.request\n",
    "\n",
    "# Get the 1818 edition\n",
    "url1 = 'https://gutenberg.org/cache/epub/41445/pg41445.txt'\n",
    "raw_text1 = urllib.request.urlopen(url1).read().decode()\n",
    "# Get Chapter 1\n",
    "chap1_1 = raw_text1[raw_text1.find('CHAPTER I'):raw_text1.find('CHAPTER II')]\n",
    "\n",
    "# Get the 1831 edition\n",
    "url2 = 'https://gutenberg.org/cache/epub/42324/pg42324.txt'\n",
    "raw_text2 = urllib.request.urlopen(url2).read().decode()\n",
    "# Get Chapter 1\n",
    "chap1_2 = raw_text2[raw_text2.find('CHAPTER I'):raw_text2.find('CHAPTER II')]"
   ]
  },
  {
   "cell_type": "markdown",
   "id": "0419da04-be3f-4121-92f2-6bf592cfb41a",
   "metadata": {},
   "source": [
    "## Preproces the text to get homogeneous data "
   ]
  },
  {
   "cell_type": "code",
   "execution_count": 2,
   "id": "08457aa7-60bf-4f09-aee1-1ce0903649bc",
   "metadata": {},
   "outputs": [],
   "source": [
    "import re\n",
    "def preprocess_text(text):\n",
    "    text = text.replace('\\r', ' ').replace('\\n', ' ')\n",
    "    text = re.sub(r'[^\\w\\s.]', '', text)\n",
    "    return re.sub(r'\\s+', ' ', text)\n",
    "    \n",
    "\n",
    "edition1818 = preprocess_text(chap1_1)\n",
    "edition1831 = preprocess_text(chap1_2)"
   ]
  },
  {
   "cell_type": "markdown",
   "id": "173baef5-b5f0-435e-af62-43ad080f4f34",
   "metadata": {},
   "source": [
    "## Using difflib for text comparison\n",
    "\n",
    "Use the information in this table to understand the output.\n",
    "\n",
    "| Code | Meaning                          |\n",
    "|------|----------------------------------|\n",
    "| '- ' | line unique to sequence 1        |\n",
    "| '+ ' | line unique to sequence 2        |\n",
    "| '  ' | line common to both sequences    |\n",
    "| '? ' | line not present in either input sequence |\n",
    "\n",
    "\n",
    "_Lines beginning with ‘?’ attempt to guide the eye to intraline differences, and were not present in either input sequence. These lines can be confusing if the sequences contain whitespace characters, such as spaces, tabs or line breaks._\n",
    "\n",
    "Source: https://docs.python.org/3/library/difflib.html"
   ]
  },
  {
   "cell_type": "code",
   "execution_count": 3,
   "id": "28eef918-ca37-4618-8198-128d883fbb81",
   "metadata": {},
   "outputs": [
    {
     "name": "stdout",
     "output_type": "stream",
     "text": [
      "  CHAPTER I\n",
      "  I am by birth a Genevese and my family is one of the most distinguished of that republic\n",
      "  My ancestors had been for many years counsellors and syndics and my father had filled several public situations with honour and reputation\n",
      "  He was respected by all who knew him for his integrity and indefatigable attention to public business\n",
      "- He passed his younger days perpetually occupied by the affairs of his country and it was not until the decline of life that he thought of marrying and bestowing on the state sons who might carry his virtues and his name down to posterity\n",
      "+ He passed his younger days perpetually occupied by the affairs of his country a variety of circumstances had prevented his marrying early nor was it until the decline of life that he became a husband and the father of a family\n",
      "  As the circumstances of his marriage illustrate his character I cannot refrain from relating them\n",
      "  One of his most intimate friends was a merchant who from a flourishing state fell through numerous mischances into poverty\n",
      "  This man whose name was Beaufort was of a proud and unbending disposition and could not bear to live in poverty and oblivion in the same country where he had formerly been distinguished for his rank and magnificence\n",
      "  Having paid his debts therefore in the most honourable manner he retreated with his daughter to the town of Lucerne where he lived unknown and in wretchedness\n",
      "  My father loved Beaufort with the truest friendship and was deeply grieved by his retreat in these unfortunate circumstances\n",
      "- He grieved also for the loss of his society and resolved to seek him out and endeavour to persuade him to begin the world again through his credit and assistance\n",
      "+ He bitterly deplored the false pride which led his friend to a conduct so little worthy of the affection that united them\n",
      "+ He lost no time in endeavouring to seek him out with the hope of persuading him to begin the world again through his credit and assistance\n",
      "  Beaufort had taken effectual measures to conceal himself and it was ten months before my father discovered his abode\n",
      "  Overjoyed at this discovery he hastened to the house which was situated in a mean street near the Reuss\n",
      "  But when he entered misery and despair alone welcomed him\n",
      "- Beaufort had saved but a very small sum of money from the wreck of his fortunes but it was sufficient to provide him with sustenance for some months and in the mean time he hoped to procure some respectable employment in a merchants house\n",
      "?                                                                                                                                                              ---------------------------------------------------------------------------------\n",
      "\n",
      "+ Beaufort had saved but a very small sum of money from the wreck of his fortunes but it was sufficient to provide him with sustenance for some months and in t\n",
      "- The in\n"
     ]
    }
   ],
   "source": [
    "# Using difflib for text comparison\n",
    "import difflib\n",
    "\n",
    "def compare_texts(text1, text2):\n",
    "    # Split the texts into lines or sentences\n",
    "    lines1 = text1.split('. ')\n",
    "    lines2 = text2.split('. ')\n",
    "\n",
    "    # Create a Differ object\n",
    "    differ = difflib.Differ()\n",
    "\n",
    "    # Compare the texts\n",
    "    diff = differ.compare(lines1, lines2)\n",
    "\n",
    "    # Print the differences\n",
    "    for line in diff:\n",
    "        print(line)\n",
    "\n",
    "# compare the first 2000 signs in the first chapter of each edition\n",
    "compare_texts(edition1818[0:2000], edition1831[0:2000])"
   ]
  },
  {
   "cell_type": "markdown",
   "id": "af692803-40b1-49bb-bf69-8f8e0cf2fc74",
   "metadata": {},
   "source": [
    "## Using fuzzywuzzy to compute the similarity of two texts"
   ]
  },
  {
   "cell_type": "code",
   "execution_count": 4,
   "id": "2a8a0f9a-ad58-4c52-b569-c55630c7b15a",
   "metadata": {},
   "outputs": [],
   "source": [
    "# ! pip install fuzzywuzzy\n",
    "# ! pip install python-Levenshtein"
   ]
  },
  {
   "cell_type": "code",
   "execution_count": 5,
   "id": "1212fb5b-f364-422c-b2f6-1cc4a4df3462",
   "metadata": {},
   "outputs": [
    {
     "ename": "ModuleNotFoundError",
     "evalue": "No module named 'fuzzywuzzy'",
     "output_type": "error",
     "traceback": [
      "\u001b[1;31m---------------------------------------------------------------------------\u001b[0m",
      "\u001b[1;31mModuleNotFoundError\u001b[0m                       Traceback (most recent call last)",
      "Cell \u001b[1;32mIn[5], line 3\u001b[0m\n\u001b[0;32m      1\u001b[0m \u001b[38;5;66;03m# Using fuzzywuzzy for Sentence Similarity\u001b[39;00m\n\u001b[1;32m----> 3\u001b[0m \u001b[38;5;28;01mfrom\u001b[39;00m \u001b[38;5;21;01mfuzzywuzzy\u001b[39;00m \u001b[38;5;28;01mimport\u001b[39;00m fuzz\n\u001b[0;32m      5\u001b[0m \u001b[38;5;28;01mdef\u001b[39;00m \u001b[38;5;21mcompare_sentences\u001b[39m(sentence1, sentence2):\n\u001b[0;32m      6\u001b[0m     \u001b[38;5;66;03m# Calculate the similarity ratio\u001b[39;00m\n\u001b[0;32m      7\u001b[0m     ratio \u001b[38;5;241m=\u001b[39m fuzz\u001b[38;5;241m.\u001b[39mratio(sentence1, sentence2)\n",
      "\u001b[1;31mModuleNotFoundError\u001b[0m: No module named 'fuzzywuzzy'"
     ]
    }
   ],
   "source": [
    "# Using fuzzywuzzy for Sentence Similarity\n",
    "\n",
    "from fuzzywuzzy import fuzz\n",
    "\n",
    "def compare_sentences(sentence1, sentence2):\n",
    "    # Calculate the similarity ratio\n",
    "    ratio = fuzz.ratio(sentence1, sentence2)\n",
    "    return ratio\n",
    "\n",
    "similarity = compare_sentences(edition1818, edition1831)\n",
    "print(f\"Similarity: {similarity}%\")\n"
   ]
  }
 ],
 "metadata": {
  "kernelspec": {
   "display_name": "Python 3 (ipykernel)",
   "language": "python",
   "name": "python3"
  },
  "language_info": {
   "codemirror_mode": {
    "name": "ipython",
    "version": 3
   },
   "file_extension": ".py",
   "mimetype": "text/x-python",
   "name": "python",
   "nbconvert_exporter": "python",
   "pygments_lexer": "ipython3",
   "version": "3.12.5"
  }
 },
 "nbformat": 4,
 "nbformat_minor": 5
}