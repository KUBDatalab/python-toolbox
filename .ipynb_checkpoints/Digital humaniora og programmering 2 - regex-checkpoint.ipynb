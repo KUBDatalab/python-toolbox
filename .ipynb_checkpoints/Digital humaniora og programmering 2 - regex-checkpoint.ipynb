{
 "cells": [
  {
   "cell_type": "markdown",
   "metadata": {},
   "source": [
    "# RegEx og Frankenstein"
   ]
  },
  {
   "cell_type": "markdown",
   "metadata": {},
   "source": [
    "Online RegEx tester: https://regex101.com/ er en helt fantastisk hjælpsom side til at lære at anvende regulære udtryk (Regex).\n",
    "\n",
    "W3schools har også en meget brugbar side, der handler om RegEx. https://www.w3schools.com/python/python_regex.asp\n",
    "\n",
    "Regex' anvendelse er meget udbredt, fordi RegEx er super smart i relation til tekstbehandling, fordi det kan bruges til at foretage avancerede søgninger. RegEx anvendes til søgemaskiner og til søg og erstat funktioner. At arbejde med RegEx er afgjort en oplevelse for sig, men når man får indblik i omfanget af opgaver, som kan løses med RegEx, så indser man, at det er et utroligt godt værktøj.\n",
    "\n",
    "Denne notebook forsøger ikke at lære dig alt om RegEx, men den forsøger at skabe læring om det, og kun et fåtal af mulighederne bliver illustreret nedenfor.\n",
    "\n",
    "Foruden RegEx indeholder denne notebook mange loops og list comprehensions, så på den måde kan du også få indblik i, hvordan du skriver den slags."
   ]
  },
  {
   "cell_type": "markdown",
   "metadata": {},
   "source": [
    "## Indlæs filer"
   ]
  },
  {
   "cell_type": "markdown",
   "metadata": {},
   "source": [
    "Vi bruger koden fa begyndelsen af kurset \"Digital humaniora og programmering 1 - nltk\" til at hente en tekst fra Gutenberg.org"
   ]
  },
  {
   "cell_type": "code",
   "execution_count": 1,
   "metadata": {},
   "outputs": [],
   "source": [
    "import urllib.request \n",
    "url = 'https://gutenberg.org/cache/epub/84/pg84.txt'\n",
    "raw_text = urllib.request.urlopen(url).read().decode()\n",
    "text_start = raw_text.find('*** START OF THE PROJECT GUTENBERG EBOOK FRANKENSTEIN; OR, THE MODERN PROMETHEUS ***')\n",
    "text_start = text_start + len('*** START OF THE PROJECT GUTENBERG EBOOK FRANKENSTEIN; OR, THE MODERN PROMETHEUS ***')\n",
    "text_end = raw_text.find('*** END OF THE PROJECT GUTENBERG EBOOK FRANKENSTEIN; OR, THE MODERN PROMETHEUS ***')\n",
    "text = raw_text[text_start:text_end].strip()"
   ]
  },
  {
   "cell_type": "code",
   "execution_count": 2,
   "metadata": {},
   "outputs": [
    {
     "data": {
      "text/plain": [
       "'Frankenstein;\\r\\n\\r\\nor, the Modern Prometheus\\r\\n\\r\\nby Mary Wollstonecraft (Godwin) Shelley\\r\\n\\r\\n\\r\\n CONTENTS'"
      ]
     },
     "execution_count": 2,
     "metadata": {},
     "output_type": "execute_result"
    }
   ],
   "source": [
    "text[0:100]"
   ]
  },
  {
   "cell_type": "markdown",
   "metadata": {},
   "source": [
    "# Metategn \\b \\S og \\w samt + tegnet "
   ]
  },
  {
   "cell_type": "markdown",
   "metadata": {},
   "source": [
    "Man vi ofte have brug for at rense teksterne for symboler som komma og punktummer osv.\n",
    "\n",
    "Rensning af tekst kan foregå på flere måder. Nedenfor afprøver vi et par af måderne. Vi begynder med at importere RegEx (import re).\n"
   ]
  },
  {
   "cell_type": "code",
   "execution_count": 3,
   "metadata": {},
   "outputs": [],
   "source": [
    "import re"
   ]
  },
  {
   "cell_type": "markdown",
   "metadata": {},
   "source": [
    "# Rens tekst for grammatiske tegn\n",
    "\n",
    "Rensning af teksten vil ofte være en fundamental nødvendighed inden arbejdet med at anvende forskellige metoder til at analysere teksten. Rensningen består ofte i at fjerne grammatiske tegn, sikre at alle store bogstaver er ændret til små bogstaver og at [stopord](https://en.wikipedia.org/wiki/Stop_word) er blevet filtreret bort.  \n",
    "\n",
    "Når vi skal rense vores tekst for grammatiske tegn bruger vi RegEX patterns og Python strengmetoder. Nedenfor afprøver vi afprøver to forskellige RegEX patterns. \n",
    "\n",
    "Når vi arbejder med RegEx er hjemmesiden [regex101.com](https://regex101.com/) et genialt værktøj, fordi vi kan få hjælp dels til at forstå Regex, dels til at skrive et Regex pattern.\n",
    "\n",
    "Prøv at åbne siden og indsæt denne tekststreng: _Chapter 1 I am by birth a Genevese, and my family is one of the most distinguished of that republic._ i feltet 'TEXT STRING'. \n",
    "\n",
    "**Første RegEX pattern '\\b\\S+\\b'**.\n",
    "\n",
    "I feltet 'REGULAR EXPRESSION' kan du skrive dette mønster _'\\b\\S+\\b'_.\n",
    "\n",
    "\\b : \\b finder positionen ved grænsen af et ord (word boundary). \\S: \\S matcher ethvert ikke-mellemrum +: + matcher det forrige tegn mellem én og et ubegrænset antal gange, så mange gange som muligt ind til næste tegn. Man siger, at plusset er grådigt. \\b : \\b finder positionen ved grænsen af et ord (word boundary).\n",
    "\n",
    "Når du sætter \\b\\S+\\b matcher du fra matcher du alle \"ikke mellemumstegn\" samt underscore dog ikke symboler som punktummer, kommaer, spørgsmålstegn.\n",
    "\n",
    "**Andet RegEX pattern '\\w+'**.\n",
    "Et andet Regex mønster, der også bliver benyttet til rensning er '\\w+'.\n",
    "\\w: \\w matcher ethvert alfabetisk bogstav (store og små bogstaver), ethvert tal eller en understregning (_). +: + matcher det foregående tegn en eller flere gange.\n",
    "\n",
    "Når du sætter \\w+ sammen matcher du hele ord sammensat af bogstaver, cifre og understregninger.\n",
    "\n",
    "**Sammenligning af de to RegEX patterns**\n",
    "\n",
    "I første metode forbliver _There-for_ i et ord\n",
    "\n",
    "I anden metode bliver det til to ord, _There for_.\n",
    "\n",
    "Søg f.eks. efter _About two o’clock_.\n",
    "\n",
    "I første metode forbliver _o’clock_ et ord.\n",
    "\n",
    "I anden metode bliver det til to ord, _o clock_.\n",
    "\n",
    "Begge metoder efterlader os med underscores (_), så for at slippe af med uderscores bruger vi sting metoden .replace(). \n",
    "\n",
    "Afprøv begge metoder nedenfor og inspicer resultatet.\n",
    "\n",
    "Koden gør brug af python string metoderne [.lower()](https://www.w3schools.com/python/ref_string_lower.asp), [.replace()](https://www.w3schools.com/python/ref_string_replace.asp) og [.join()](https://www.w3schools.com/python/ref_string_join.asp), samt biblioteket 're', Python [RegEx](https://www.w3schools.com/python/python_regex.asp).\n"
   ]
  },
  {
   "cell_type": "code",
   "execution_count": 4,
   "metadata": {},
   "outputs": [],
   "source": [
    "def clean_text_1(text):\n",
    "    # Use \\w+ regex pattern to extract words\n",
    "    words = re.findall(r'\\b\\S+\\b', text)\n",
    "\n",
    "    # Join the extracted words into a cleaned text\n",
    "    cleaned_text = ' '.join(words)\n",
    "\n",
    "    return cleaned_text\n",
    "\n",
    "\n",
    "def clean_text_2(text):\n",
    "    # Use \\w+ regex pattern to extract words\n",
    "    words = re.findall(r'\\w+', text)\n",
    "\n",
    "    # Join the extracted words into a cleaned text\n",
    "    cleaned_text = ' '.join(words)\n",
    "\n",
    "    return cleaned_text"
   ]
  },
  {
   "cell_type": "code",
   "execution_count": 9,
   "metadata": {},
   "outputs": [
    {
     "name": "stdout",
     "output_type": "stream",
     "text": [
      "Frankenstein or the Modern Prometheus by Mary Wollstonecraft Godwin Shelley CONTENTS Letter 1 Letter\n"
     ]
    }
   ],
   "source": [
    "cleaned_text = clean_text_1(text)\n",
    "\n",
    "print(cleaned_text[0:100])"
   ]
  },
  {
   "cell_type": "code",
   "execution_count": 6,
   "metadata": {},
   "outputs": [
    {
     "name": "stdout",
     "output_type": "stream",
     "text": [
      "Frankenstein or the Modern Prometheus by Mary Wollstonecraft Godwin Shelley CONTENTS Letter 1 Letter\n"
     ]
    }
   ],
   "source": [
    "cleaned_text = clean_text_2(text)\n",
    "\n",
    "print(cleaned_text[0:100])"
   ]
  },
  {
   "cell_type": "markdown",
   "metadata": {},
   "source": [
    "Vi skal prøve at forholde os til resultaterne og sammenligne resultaterne.\n",
    "\n",
    "Søg f.eks. efter There—for\n",
    "I første metode forbliver There-for i et ord\n",
    "\n",
    "I anden metode bliver det til to ord. \n",
    "\n",
    "\n",
    "Søg f.eks. efter About two o’clock.\n",
    "\n",
    "I første metode forbliver o’clock et ord. \n",
    "\n",
    "I anden metode bliver det til to ord \"o clock\".\n",
    "\n",
    "\n",
    "Begge metoder efterlader os med underscores.  "
   ]
  },
  {
   "cell_type": "markdown",
   "metadata": {},
   "source": [
    "# w+ sammen med \\b\n",
    "Hvorfor sker der ikke noget på en fredag? \n",
    "\n",
    "Find ord med særlige endelser, f.eks. _dag_, kan være en hjælp til at få indblik i, hvor og hvornår litteraturen foregår.\n",
    "\n",
    "Man kan også bruge endelserne til at finde grammatiske former, f.eks. vil ord med lang tillægsform være relativt lette at identificere.  "
   ]
  },
  {
   "cell_type": "code",
   "execution_count": 132,
   "metadata": {},
   "outputs": [
    {
     "name": "stdout",
     "output_type": "stream",
     "text": [
      "['yesterday', 'holiday', 'Monday', 'Yesterday', 'Sunday', 'Thursday', 'today', 'today', 'yesterday', 'yesterday', 'everyday']\n"
     ]
    }
   ],
   "source": [
    "ending = re.findall(r'\\w+day\\b', text)\n",
    "print(ending)"
   ]
  },
  {
   "cell_type": "markdown",
   "metadata": {},
   "source": [
    "# Flere metategn, samt pipes, lister og spørgsmålstegn"
   ]
  },
  {
   "cell_type": "markdown",
   "metadata": {},
   "source": [
    "I litteratur anvender man ofte sammenligninger til at illustrere pointer tydeligere ved at sætte billeder på det man vil beskrive. Sammenligninger bidrager også til at gøre teksten mere levende og intererssant.\n",
    "\n",
    "Men regex bliver det en overkommelig opgave at hente eksempler på sammenligninger i Grimms eventyr, fordi vi kan finde tekststrenge som følger mønsteret i en typisk sammenligning.\n",
    "\n",
    "Vi kan illustrere det på følgende måde. Vi leder efter fraser, hvis mønster enten er as a ... eller as an ....\n",
    "\n",
    "RegEx mønsteret kan skrives således:\n",
    "\n",
    "'as\\sa\\s\\w+'\n",
    "\n",
    "Ordet 'as' efterfølges af \\s, der betyder white space, der efterfølges af a, derefterføgles af \\s, der efterfølges \\w, der betyder word charater, der efterfølges af + der betyder \"en eller flere af den forrige\".\n",
    "\n",
    "\n",
    "Hvis man også vil søge på \"as an ...\" er der to måde at gøre det på.\n",
    "\n",
    "\n",
    "Første måde er med at bruge pipe  |. Pipe betyder \"eller\". Regexmønsteret vil så se således ud: 'as\\sa\\s\\w+|as\\san\\s\\w+'\n",
    "\n",
    "Anden måde er at bruge liste tegnet []? \n",
    "\n",
    "Det ser således ud: 'as\\sa[n]?\\s\\w+'. I listen kan der tilføjes bogstaver, som kan stå på den plads i ordet. Spørgsmålstegnet angiver,at bogstavet måske er der og måske ikke er der."
   ]
  },
  {
   "cell_type": "code",
   "execution_count": 72,
   "metadata": {},
   "outputs": [
    {
     "name": "stdout",
     "output_type": "stream",
     "text": [
      "['as a steady', 'as a child', 'as a most', 'as a Turk', 'as a remarkably', 'as a brother', 'as a fair', 'as a restorative', 'as a deformed', 'as a dream', 'as a mystery', 'as a proof', 'as a servant', 'as a new', 'as a proof', 'as a murderer', 'as a wretch', 'as a murderess', 'as a lullaby', 'as a guide', 'as a vagabond', 'as a boarder', 'as a distant', 'as a true', 'as a recompense', 'as a right', 'as a reality', 'as a thing', 'as a place', 'as a dream', 'as a new', 'as a presumption', 'as a criminal', 'as a delusion', 'as a mockery', 'as a great', 'as a magistrate', 'as a man', 'as a beast', 'as a nurse', 'as a task', 'as a southern', 'as a rock']\n"
     ]
    }
   ],
   "source": [
    "comparison = re.findall(r'as\\sa\\s\\w+', cleaned_text)\n",
    "print (comparison)"
   ]
  },
  {
   "cell_type": "code",
   "execution_count": 76,
   "metadata": {},
   "outputs": [
    {
     "name": "stdout",
     "output_type": "stream",
     "text": [
      "['as a steady', 'as a child', 'as an under', 'as a most', 'as a Turk', 'as a remarkably', 'as a human', 'as a little', 'as a brother', 'as a double', 'as a halo', 'as a merchant', 'as a considerable', 'as a sense', 'as a show', 'as a fair', 'as a restorative', 'as an infant', 'as a necessity', 'as a German', 'as a boy', 'as an inferior', 'as a promise', 'as a deformed', 'as a strong', 'as a narrow', 'as an uncouth', 'as a little', 'as a dream', 'as a certain', 'as an easier', 'as a bold', 'as a mystery', 'as a most', 'as a proof', 'as a tendency', 'as a divine', 'as an odious', 'as a widow', 'as a servant', 'as a great', 'as a judgement', 'as a Roman', 'as an irresistible', 'as an historical', 'as an air', 'as a miniature', 'as a new', 'as a strange', 'as a girl', 'as a proof', 'as a dire', 'as a murderer', 'as a wretch', 'as a creature', 'as a murderess', 'as a wreck', 'as a lullaby', 'as a poor', 'as a new', 'as a little', 'as a small', 'as a lovely', 'as a lady', 'as a guide', 'as a vagabond', 'as a Turkish', 'as a Christian', 'as a boarder', 'as a distant', 'as a listener', 'as a true', 'as an excellent', 'as a luxury', 'as a fool', 'as a recompense', 'as a portrait', 'as a right', 'as a being', 'as a scene', 'as a soul', 'as a being', 'as an extreme', 'as a new', 'as a place', 'as a monotonous', 'as an insuperable', 'as a reality', 'as a task', 'as a thing', 'as a place', 'as a very', 'as a hired', 'as a dream', 'as a new', 'as a presumption', 'as a momentary', 'as an agitation', 'as a criminal', 'as a torpor', 'as a shattered', 'as a mere', 'as an event', 'as a delusion', 'as an occurrence', 'as a mockery', 'as a great', 'as a magistrate', 'as a man', 'as a beast', 'as a frenzy', 'as a nurse', 'as a task', 'as a week', 'as a southern', 'as a rock']\n"
     ]
    }
   ],
   "source": [
    "comparison = re.findall(r'as\\sa\\s\\w+|as\\san\\s\\w+', cleaned_text)\n",
    "print (comparison)"
   ]
  },
  {
   "cell_type": "code",
   "execution_count": 77,
   "metadata": {},
   "outputs": [
    {
     "name": "stdout",
     "output_type": "stream",
     "text": [
      "['as a steady', 'as a child', 'as an under', 'as a most', 'as a Turk', 'as a remarkably', 'as a human', 'as a little', 'as a brother', 'as a double', 'as a halo', 'as a merchant', 'as a considerable', 'as a sense', 'as a show', 'as a fair', 'as a restorative', 'as an infant', 'as a necessity', 'as a German', 'as a boy', 'as an inferior', 'as a promise', 'as a deformed', 'as a strong', 'as a narrow', 'as an uncouth', 'as a little', 'as a dream', 'as a certain', 'as an easier', 'as a bold', 'as a mystery', 'as a most', 'as a proof', 'as a tendency', 'as a divine', 'as an odious', 'as a widow', 'as a servant', 'as a great', 'as a judgement', 'as a Roman', 'as an irresistible', 'as an historical', 'as an air', 'as a miniature', 'as a new', 'as a strange', 'as a girl', 'as a proof', 'as a dire', 'as a murderer', 'as a wretch', 'as a creature', 'as a murderess', 'as a wreck', 'as a lullaby', 'as a poor', 'as a new', 'as a little', 'as a small', 'as a lovely', 'as a lady', 'as a guide', 'as a vagabond', 'as a Turkish', 'as a Christian', 'as a boarder', 'as a distant', 'as a listener', 'as a true', 'as an excellent', 'as a luxury', 'as a fool', 'as a recompense', 'as a portrait', 'as a right', 'as a being', 'as a scene', 'as a soul', 'as a being', 'as an extreme', 'as a new', 'as a place', 'as a monotonous', 'as an insuperable', 'as a reality', 'as a task', 'as a thing', 'as a place', 'as a very', 'as a hired', 'as a dream', 'as a new', 'as a presumption', 'as a momentary', 'as an agitation', 'as a criminal', 'as a torpor', 'as a shattered', 'as a mere', 'as an event', 'as a delusion', 'as an occurrence', 'as a mockery', 'as a great', 'as a magistrate', 'as a man', 'as a beast', 'as a frenzy', 'as a nurse', 'as a task', 'as a week', 'as a southern', 'as a rock']\n"
     ]
    }
   ],
   "source": [
    "comparison = re.findall(r'as\\sa[n]?\\s\\w+', cleaned_text)\n",
    "print (comparison)"
   ]
  },
  {
   "cell_type": "markdown",
   "metadata": {},
   "source": [
    "# Krøllede parenteser \n",
    "\n",
    "Keyword-in-context, konkordans eller find et tekstuddrag baseret på søgeord og et interval. \n",
    "\n",
    "Vi vil finde tekstuddrag, der indeholder Turk eller Roman, fordi vi er faktisk interesseret i at pege ned i teksten og se, hvordan begreberne helt præcist bliver anvendt.\n",
    "\n",
    "Til dette skal vi bruge punktum ( . ), fordi det giver os flere ordtegn og {30} søger for, at vi får 30 ordtegn før, vi rammer bogstaverne Turk. \n",
    "\n",
    "Punktum {30} efter Turk giver os endnu 30 ordtegn.\n",
    "\n",
    "Prøv om du kan bruge noget af det som er gennemgået ovenfor til at inkludere tekstuddrag der indeholder ordet Roman."
   ]
  },
  {
   "cell_type": "code",
   "execution_count": 127,
   "metadata": {},
   "outputs": [
    {
     "data": {
      "text/plain": [
       "['educated he is as silent as a Turk and a kind of ignorant carele',\n",
       " ' cause of their ruin He was a Turkish merchant and had inhabited',\n",
       " ' intentions in his favour The Turk amazed and delighted endeavou',\n",
       " 'eward his toil and hazard The Turk quickly perceived the impress',\n",
       " 'eized and made a slave by the Turks recommended by her beauty sh',\n",
       " ' day for the execution of the Turk was fixed but on the night pr',\n",
       " 'passing into some part of the Turkish dominions Safie resolved t',\n",
       " 'parture before which time the Turk renewed his promise that she ',\n",
       " 'irs of her native country The Turk allowed this intimacy to take',\n",
       " ' He quickly arranged with the Turk that if the latter should fin',\n",
       " ' learned that the treacherous Turk for whom he and his family en',\n",
       " 'it but the ingratitude of the Turk and the loss of his beloved S',\n",
       " ' mandate A few days after the Turk entered his daughter s apartm',\n",
       " 'this emergency A residence in Turkey was abhorrent to her her re',\n",
       " 'rstood the common language of Turkey and departed for Germany Sh']"
      ]
     },
     "execution_count": 127,
     "metadata": {},
     "output_type": "execute_result"
    }
   ],
   "source": [
    "re.findall(r'.{30}Turk.{30}', cleaned_text)"
   ]
  },
  {
   "cell_type": "markdown",
   "metadata": {},
   "source": [
    "# Firkantede parenteser [A-Z]\n",
    "\n",
    "Find ord, der begynder med store bogstaver"
   ]
  },
  {
   "cell_type": "code",
   "execution_count": 7,
   "metadata": {},
   "outputs": [
    {
     "name": "stdout",
     "output_type": "stream",
     "text": [
      "['Frankenstein', 'Modern', 'Prometheus', 'Mary', 'Wollstonecraft', 'Godwin', 'Shelley', 'CONTENTS', 'Letter', 'Letter', 'Letter', 'Letter', 'Chapter', 'Chapter', 'Chapter', 'Chapter', 'Chapter', 'Chapter', 'Chapter', 'Chapter', 'Chapter', 'Chapter', 'Chapter', 'Chapter', 'Chapter', 'Chapter', 'Chapter', 'Chapter', 'Chapter', 'Chapter', 'Chapter', 'Chapter', 'Chapter', 'Chapter', 'Chapter', 'Chapter', 'Letter', 'To', 'Mrs', 'Saville', 'England', 'St', 'Petersburgh', 'Dec', 'You', 'London', 'Petersburgh', 'Do', 'This', 'Inspirited', 'There', 'Margaret', 'There', 'Its', 'What', 'These', 'But', 'These', 'This', 'North', 'Pacific', 'Ocean', 'You', 'Uncle', 'Thomas', 'My', 'These', 'These', 'Homer', 'Shakespeare', 'You', 'But', 'Six', 'North', 'Sea', 'Twice', 'Greenland', 'And', 'Margaret', 'My', 'Oh', 'My', 'This', 'Russia', 'They', 'English', 'The', 'St', 'Petersburgh', 'Archangel', 'June', 'Ah', 'If', 'If', 'Farewell', 'Margaret', 'Heaven', 'Your', 'Walton', 'Letter']\n"
     ]
    }
   ],
   "source": [
    "upper_case_word = re.findall(r'[A-Z]\\w+', text)\n",
    "print (upper_case_word[0:100])"
   ]
  },
  {
   "cell_type": "markdown",
   "metadata": {},
   "source": [
    "Mange af disse ord er skrevet med stort, fordi de optræder efter et punktum, og på den måde er de ikke, hvad jeg vil kalde for \"ægte\" ord med stort.\n",
    "\n",
    "Hvis man vil bortfiltrere de \"uægte\" ord fra sin liste, så kan man afsløre dem ved at lave et loop og indsætte en betingelse, der kan tjekke om, ordene skulle være skrevet med småt andre steder i teksterne, fordi hvis de er det, så er de \"uægte\"."
   ]
  },
  {
   "cell_type": "code",
   "execution_count": 8,
   "metadata": {},
   "outputs": [
    {
     "name": "stdout",
     "output_type": "stream",
     "text": [
      "['Frankenstein', 'Prometheus', 'Mary', 'Wollstonecraft', 'Godwin', 'Shelley', 'Chapter', 'Chapter', 'Chapter', 'Chapter', 'Chapter', 'Chapter', 'Chapter', 'Chapter', 'Chapter', 'Chapter', 'Chapter', 'Chapter', 'Chapter', 'Chapter', 'Chapter', 'Chapter', 'Chapter', 'Chapter', 'Chapter', 'Chapter', 'Chapter', 'Chapter', 'Chapter', 'Chapter', 'Mrs', 'Saville', 'England', 'Petersburgh', 'London', 'Petersburgh', 'Margaret', 'Pacific', 'Thomas', 'Homer', 'Shakespeare', 'Greenland', 'Margaret', 'Russia', 'English', 'Petersburgh', 'June', 'Ah', 'Margaret', 'Walton', 'Mrs', 'Saville', 'England', 'Margaret', 'Thomas', 'Englishman', 'Russian', 'Turk', 'Africa', 'America', 'Robert', 'Walton', 'Mrs', 'Saville', 'England', 'July', 'England', 'England', 'Adieu', 'Margaret', 'Mrs', 'Saville', 'England', 'August', 'Monday', 'July', 'European', 'English', 'Margaret', 'Margaret', 'August', 'August', 'Walton', 'Chapter', 'Genevese', 'Beaufort', 'Lucerne', 'Beaufort', 'Beaufort', 'Reuss', 'Beaufort', 'Caroline', 'Beaufort', 'Beaufort', 'Geneva', 'Caroline', 'Italy', 'Italy', 'Germany', 'France']\n"
     ]
    }
   ],
   "source": [
    "true_upper_case = []\n",
    "for word in upper_case_word:\n",
    "    if word.lower() not in text:\n",
    "        true_upper_case.append(word)\n",
    "print (true_upper_case[0:100])"
   ]
  },
  {
   "cell_type": "code",
   "execution_count": null,
   "metadata": {},
   "outputs": [],
   "source": []
  }
 ],
 "metadata": {
  "kernelspec": {
   "display_name": "Python 3 (ipykernel)",
   "language": "python",
   "name": "python3"
  },
  "language_info": {
   "codemirror_mode": {
    "name": "ipython",
    "version": 3
   },
   "file_extension": ".py",
   "mimetype": "text/x-python",
   "name": "python",
   "nbconvert_exporter": "python",
   "pygments_lexer": "ipython3",
   "version": "3.12.4"
  }
 },
 "nbformat": 4,
 "nbformat_minor": 4
}
